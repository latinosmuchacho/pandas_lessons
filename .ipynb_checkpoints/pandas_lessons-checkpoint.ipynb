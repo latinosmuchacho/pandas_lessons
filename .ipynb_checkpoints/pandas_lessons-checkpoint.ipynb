{
 "cells": [
  {
   "cell_type": "code",
   "execution_count": 1,
   "id": "3412dced",
   "metadata": {},
   "outputs": [],
   "source": [
    "import numpy as np\n",
    "import pandas as pd"
   ]
  },
  {
   "cell_type": "code",
   "execution_count": 2,
   "id": "0429831f",
   "metadata": {},
   "outputs": [
    {
     "data": {
      "text/plain": [
       "0        Pandas\n",
       "1    Matplotlib\n",
       "2         Numpy\n",
       "dtype: object"
      ]
     },
     "execution_count": 2,
     "metadata": {},
     "output_type": "execute_result"
    }
   ],
   "source": [
    "#Series\n",
    "data = [\"Pandas\", \"Matplotlib\", \"Numpy\"]\n",
    "s = pd.Series(data)\n",
    "s"
   ]
  },
  {
   "cell_type": "code",
   "execution_count": 3,
   "id": "70b7aff5",
   "metadata": {},
   "outputs": [
    {
     "data": {
      "text/plain": [
       "0    2.0\n",
       "1    NaN\n",
       "2    7.0\n",
       "3   -3.0\n",
       "4    0.0\n",
       "dtype: float64"
      ]
     },
     "execution_count": 3,
     "metadata": {},
     "output_type": "execute_result"
    }
   ],
   "source": [
    "s = pd.Series([2, np.nan, 7, -3, 0])\n",
    "s"
   ]
  },
  {
   "cell_type": "code",
   "execution_count": 4,
   "id": "d6526103",
   "metadata": {},
   "outputs": [
    {
     "data": {
      "text/plain": [
       "a    3\n",
       "b   -5\n",
       "c    7\n",
       "d    4\n",
       "dtype: int64"
      ]
     },
     "execution_count": 4,
     "metadata": {},
     "output_type": "execute_result"
    }
   ],
   "source": [
    "s = pd.Series([3, -5, 7, 4], index=['a', 'b', 'c', 'd'])\n",
    "s"
   ]
  },
  {
   "cell_type": "code",
   "execution_count": 5,
   "id": "3e1f16ba",
   "metadata": {},
   "outputs": [
    {
     "data": {
      "text/plain": [
       "p   -0.409879\n",
       "q   -1.290937\n",
       "r   -0.997916\n",
       "n   -0.106024\n",
       "t   -0.027152\n",
       "v   -0.368321\n",
       "dtype: float64"
      ]
     },
     "execution_count": 5,
     "metadata": {},
     "output_type": "execute_result"
    }
   ],
   "source": [
    "s = pd.Series(np.random.randn(6), index=['p', 'q', 'r', 'n', 't', 'v'])\n",
    "s"
   ]
  },
  {
   "cell_type": "code",
   "execution_count": 6,
   "id": "f5124145",
   "metadata": {},
   "outputs": [
    {
     "data": {
      "text/plain": [
       "Index(['p', 'q', 'r', 'n', 't', 'v'], dtype='object')"
      ]
     },
     "execution_count": 6,
     "metadata": {},
     "output_type": "execute_result"
    }
   ],
   "source": [
    "s.index"
   ]
  },
  {
   "cell_type": "code",
   "execution_count": 7,
   "id": "607e42b6",
   "metadata": {},
   "outputs": [
    {
     "data": {
      "text/plain": [
       "q    1\n",
       "p    2\n",
       "r    3\n",
       "dtype: int64"
      ]
     },
     "execution_count": 7,
     "metadata": {},
     "output_type": "execute_result"
    }
   ],
   "source": [
    "n = {'q': 1, 'p': 2, 'r':3}\n",
    "pd.Series(n)"
   ]
  },
  {
   "cell_type": "code",
   "execution_count": 11,
   "id": "443fabe7",
   "metadata": {},
   "outputs": [
    {
     "name": "stdout",
     "output_type": "stream",
     "text": [
      "float64\n",
      "(6,)\n",
      "1\n",
      "6\n"
     ]
    }
   ],
   "source": [
    "print(s.dtype)\n",
    "print(s.shape)\n",
    "print(s.ndim)\n",
    "print(s.size)"
   ]
  },
  {
   "cell_type": "code",
   "execution_count": 13,
   "id": "c26ad361",
   "metadata": {},
   "outputs": [
    {
     "data": {
      "text/plain": [
       "array([-0.40987928, -1.29093708, -0.99791574, -0.1060239 , -0.02715151,\n",
       "       -0.3683213 ])"
      ]
     },
     "execution_count": 13,
     "metadata": {},
     "output_type": "execute_result"
    }
   ],
   "source": [
    "s.to_numpy()"
   ]
  },
  {
   "cell_type": "code",
   "execution_count": 20,
   "id": "63460430",
   "metadata": {},
   "outputs": [
    {
     "name": "stdout",
     "output_type": "stream",
     "text": [
      "p   -0.409879\n",
      "q   -1.290937\n",
      "r   -0.997916\n",
      "n   -0.106024\n",
      "t   -0.027152\n",
      "v   -0.368321\n",
      "dtype: float64 \n",
      "\n",
      "-0.40987927853643097 \n",
      "\n",
      "q   -1.290937\n",
      "r   -0.997916\n",
      "n   -0.106024\n",
      "t   -0.027152\n",
      "dtype: float64 \n",
      "\n",
      "Series([], dtype: float64) \n",
      "\n",
      "-0.027151509022019932 \n",
      "\n",
      "r   -0.997916\n",
      "t   -0.027152\n",
      "dtype: float64\n"
     ]
    }
   ],
   "source": [
    "# Индексы и выборка\n",
    "\n",
    "print(s, '\\n')\n",
    "\n",
    "print(s[0], '\\n')\n",
    "\n",
    "print(s[1:5], '\\n')\n",
    "\n",
    "print(s[(s > 0) & (s < 1)], '\\n')\n",
    "\n",
    "print(s['t'], '\\n')\n",
    "\n",
    "print(s[['r', 't']])"
   ]
  },
  {
   "cell_type": "code",
   "execution_count": 21,
   "id": "146d20f7",
   "metadata": {},
   "outputs": [
    {
     "data": {
      "text/plain": [
       "t   -0.027152\n",
       "r   -0.997916\n",
       "dtype: float64"
      ]
     },
     "execution_count": 21,
     "metadata": {},
     "output_type": "execute_result"
    }
   ],
   "source": [
    "s[[4, 2]]"
   ]
  },
  {
   "cell_type": "code",
   "execution_count": 23,
   "id": "0ca1026d",
   "metadata": {},
   "outputs": [
    {
     "name": "stdout",
     "output_type": "stream",
     "text": [
      "p   -0.398499\n",
      "q   -0.961094\n",
      "r   -0.840343\n",
      "n   -0.105825\n",
      "t   -0.027148\n",
      "v   -0.360050\n",
      "dtype: float64 \n",
      "\n",
      "p    0.409879\n",
      "q    1.290937\n",
      "r    0.997916\n",
      "n    0.106024\n",
      "t    0.027152\n",
      "v    0.368321\n",
      "dtype: float64 \n",
      "\n",
      "p   -0.434488\n",
      "q   -3.479448\n",
      "r   -1.550291\n",
      "n   -0.106423\n",
      "t   -0.027158\n",
      "v   -0.385933\n",
      "dtype: float64 \n",
      "\n"
     ]
    }
   ],
   "source": [
    "print(np.sin(s), '\\n')\n",
    "print(np.abs(s), '\\n')\n",
    "print(np.tan(s), '\\n')"
   ]
  },
  {
   "cell_type": "code",
   "execution_count": 25,
   "id": "bed9c77e",
   "metadata": {},
   "outputs": [
    {
     "data": {
      "text/plain": [
       "p             -0.409879\n",
       "q             -1.290937\n",
       "r             -0.997916\n",
       "n             -0.106024\n",
       "t             -0.027152\n",
       "v             -0.368321\n",
       "pylounge    1000.000000\n",
       "dtype: float64"
      ]
     },
     "execution_count": 25,
     "metadata": {},
     "output_type": "execute_result"
    }
   ],
   "source": [
    "# Добавление и удаление\n",
    "\n",
    "s['pylounge'] = 1000\n",
    "s"
   ]
  },
  {
   "cell_type": "code",
   "execution_count": 26,
   "id": "a108620d",
   "metadata": {},
   "outputs": [
    {
     "data": {
      "text/plain": [
       "q   -1.290937\n",
       "r   -0.997916\n",
       "n   -0.106024\n",
       "t   -0.027152\n",
       "v   -0.368321\n",
       "dtype: float64"
      ]
     },
     "execution_count": 26,
     "metadata": {},
     "output_type": "execute_result"
    }
   ],
   "source": [
    "s.drop(labels=['p', 'pylounge'])"
   ]
  },
  {
   "cell_type": "code",
   "execution_count": 27,
   "id": "aa7f0d06",
   "metadata": {},
   "outputs": [
    {
     "name": "stdout",
     "output_type": "stream",
     "text": [
      "996.7997711964119 \n",
      "\n",
      "142.39996731377315 \n",
      "\n",
      "1000.0 \n",
      "\n"
     ]
    }
   ],
   "source": [
    "print(s.sum(), '\\n')\n",
    "print(s.mean(), '\\n')\n",
    "print(s.max(), '\\n')"
   ]
  },
  {
   "cell_type": "code",
   "execution_count": 28,
   "id": "9174bea3",
   "metadata": {},
   "outputs": [
    {
     "data": {
      "text/plain": [
       "p             -0.819759\n",
       "q             -2.581874\n",
       "r             -1.995831\n",
       "n             -0.212048\n",
       "t             -0.054303\n",
       "v             -0.736643\n",
       "pylounge    2000.000000\n",
       "dtype: float64"
      ]
     },
     "execution_count": 28,
     "metadata": {},
     "output_type": "execute_result"
    }
   ],
   "source": [
    "# Операции\n",
    "\n",
    "s + s"
   ]
  },
  {
   "cell_type": "code",
   "execution_count": 30,
   "id": "90706858",
   "metadata": {},
   "outputs": [
    {
     "data": {
      "text/plain": [
       "p                 0.168001\n",
       "q                 1.666519\n",
       "r                 0.995836\n",
       "n                 0.011241\n",
       "t                 0.000737\n",
       "v                 0.135661\n",
       "pylounge    1000000.000000\n",
       "dtype: float64"
      ]
     },
     "execution_count": 30,
     "metadata": {},
     "output_type": "execute_result"
    }
   ],
   "source": [
    "s * s"
   ]
  },
  {
   "cell_type": "code",
   "execution_count": 31,
   "id": "70d3543a",
   "metadata": {},
   "outputs": [
    {
     "data": {
      "text/plain": [
       "p                 0.168001\n",
       "q                 1.666519\n",
       "r                 0.995836\n",
       "n                 0.011241\n",
       "t                 0.000737\n",
       "v                 0.135661\n",
       "pylounge    1000000.000000\n",
       "dtype: float64"
      ]
     },
     "execution_count": 31,
     "metadata": {},
     "output_type": "execute_result"
    }
   ],
   "source": [
    "s ** 2"
   ]
  },
  {
   "cell_type": "code",
   "execution_count": 32,
   "id": "325c3bd2",
   "metadata": {},
   "outputs": [
    {
     "data": {
      "text/plain": [
       "p              0\n",
       "q             -1\n",
       "r              0\n",
       "n              0\n",
       "t              0\n",
       "v              0\n",
       "pylounge    1000\n",
       "dtype: int16"
      ]
     },
     "execution_count": 32,
     "metadata": {},
     "output_type": "execute_result"
    }
   ],
   "source": [
    "s.astype(np.int16)"
   ]
  },
  {
   "cell_type": "code",
   "execution_count": 35,
   "id": "423810e3",
   "metadata": {},
   "outputs": [],
   "source": [
    "# pd.read_csv('./heart.csv', nrows=1)"
   ]
  },
  {
   "cell_type": "code",
   "execution_count": 37,
   "id": "decb4ab4",
   "metadata": {},
   "outputs": [],
   "source": [
    "s.to_csv('./myDataFrame.csv')\n",
    "\n",
    "#pd.read_excel('file.xlsx')\n",
    "#pd.to_excel('dir/myDataFrame.xlsx', sheet_name='Sheet1')\n",
    "#df.to_json(filename)\n",
    "\n",
    "#xlsx = pd.ExcelFile('file.xls')\n",
    "#df = pd.read_excel(xlsx, 'Sheet1')\n",
    "#pd.read_json(json_string)\n",
    "#pd.read_html(url)\n",
    "#pd.read_clipboard()"
   ]
  },
  {
   "cell_type": "code",
   "execution_count": 38,
   "id": "766e77e0",
   "metadata": {},
   "outputs": [
    {
     "data": {
      "text/plain": [
       "'\\nfrom sqlalchemy import create_engine\\n\\nengine = create_engine(\\'sqlite:///:memory:\\')\\npd.read_sql(\"SELECT * FROM my_table;\", engine)\\npd.read_sql_table(\\'my_table\\', engine)\\npd.read_sql_query(\"SELECT * FROM my_table;\", engine)\\n\\npd.to_sql(\\'myDf\\', engine)\\n'"
      ]
     },
     "execution_count": 38,
     "metadata": {},
     "output_type": "execute_result"
    }
   ],
   "source": [
    "'''\n",
    "from sqlalchemy import create_engine\n",
    "\n",
    "engine = create_engine('sqlite:///:memory:')\n",
    "pd.read_sql(\"SELECT * FROM my_table;\", engine)\n",
    "pd.read_sql_table('my_table', engine)\n",
    "pd.read_sql_query(\"SELECT * FROM my_table;\", engine)\n",
    "\n",
    "pd.to_sql('myDf', engine)\n",
    "'''"
   ]
  },
  {
   "cell_type": "code",
   "execution_count": 39,
   "id": "4394542d",
   "metadata": {},
   "outputs": [
    {
     "data": {
      "text/html": [
       "<div>\n",
       "<style scoped>\n",
       "    .dataframe tbody tr th:only-of-type {\n",
       "        vertical-align: middle;\n",
       "    }\n",
       "\n",
       "    .dataframe tbody tr th {\n",
       "        vertical-align: top;\n",
       "    }\n",
       "\n",
       "    .dataframe thead th {\n",
       "        text-align: right;\n",
       "    }\n",
       "</style>\n",
       "<table border=\"1\" class=\"dataframe\">\n",
       "  <thead>\n",
       "    <tr style=\"text-align: right;\">\n",
       "      <th></th>\n",
       "      <th>0</th>\n",
       "      <th>1</th>\n",
       "      <th>2</th>\n",
       "    </tr>\n",
       "  </thead>\n",
       "  <tbody>\n",
       "    <tr>\n",
       "      <th>0</th>\n",
       "      <td>4</td>\n",
       "      <td>7</td>\n",
       "      <td>10</td>\n",
       "    </tr>\n",
       "    <tr>\n",
       "      <th>1</th>\n",
       "      <td>5</td>\n",
       "      <td>8</td>\n",
       "      <td>11</td>\n",
       "    </tr>\n",
       "    <tr>\n",
       "      <th>2</th>\n",
       "      <td>6</td>\n",
       "      <td>9</td>\n",
       "      <td>12</td>\n",
       "    </tr>\n",
       "  </tbody>\n",
       "</table>\n",
       "</div>"
      ],
      "text/plain": [
       "   0  1   2\n",
       "0  4  7  10\n",
       "1  5  8  11\n",
       "2  6  9  12"
      ]
     },
     "execution_count": 39,
     "metadata": {},
     "output_type": "execute_result"
    }
   ],
   "source": [
    "# DataFrame\n",
    "\n",
    "data = [[4, 7, 10], [5, 8, 11], [6, 9, 12]]\n",
    "df = pd.DataFrame(data)\n",
    "df"
   ]
  },
  {
   "cell_type": "code",
   "execution_count": 40,
   "id": "d21aad7a",
   "metadata": {},
   "outputs": [
    {
     "data": {
      "text/html": [
       "<div>\n",
       "<style scoped>\n",
       "    .dataframe tbody tr th:only-of-type {\n",
       "        vertical-align: middle;\n",
       "    }\n",
       "\n",
       "    .dataframe tbody tr th {\n",
       "        vertical-align: top;\n",
       "    }\n",
       "\n",
       "    .dataframe thead th {\n",
       "        text-align: right;\n",
       "    }\n",
       "</style>\n",
       "<table border=\"1\" class=\"dataframe\">\n",
       "  <thead>\n",
       "    <tr style=\"text-align: right;\">\n",
       "      <th></th>\n",
       "      <th>X</th>\n",
       "      <th>Y</th>\n",
       "      <th>Z</th>\n",
       "    </tr>\n",
       "  </thead>\n",
       "  <tbody>\n",
       "    <tr>\n",
       "      <th>a</th>\n",
       "      <td>4</td>\n",
       "      <td>7</td>\n",
       "      <td>10</td>\n",
       "    </tr>\n",
       "    <tr>\n",
       "      <th>b</th>\n",
       "      <td>5</td>\n",
       "      <td>8</td>\n",
       "      <td>11</td>\n",
       "    </tr>\n",
       "    <tr>\n",
       "      <th>c</th>\n",
       "      <td>6</td>\n",
       "      <td>9</td>\n",
       "      <td>12</td>\n",
       "    </tr>\n",
       "  </tbody>\n",
       "</table>\n",
       "</div>"
      ],
      "text/plain": [
       "   X  Y   Z\n",
       "a  4  7  10\n",
       "b  5  8  11\n",
       "c  6  9  12"
      ]
     },
     "execution_count": 40,
     "metadata": {},
     "output_type": "execute_result"
    }
   ],
   "source": [
    "df = pd.DataFrame(data, index=['a', 'b', 'c'], columns=['X', 'Y', 'Z'])\n",
    "df"
   ]
  },
  {
   "cell_type": "code",
   "execution_count": 41,
   "id": "3a28bd2f",
   "metadata": {},
   "outputs": [
    {
     "data": {
      "text/html": [
       "<div>\n",
       "<style scoped>\n",
       "    .dataframe tbody tr th:only-of-type {\n",
       "        vertical-align: middle;\n",
       "    }\n",
       "\n",
       "    .dataframe tbody tr th {\n",
       "        vertical-align: top;\n",
       "    }\n",
       "\n",
       "    .dataframe thead th {\n",
       "        text-align: right;\n",
       "    }\n",
       "</style>\n",
       "<table border=\"1\" class=\"dataframe\">\n",
       "  <thead>\n",
       "    <tr style=\"text-align: right;\">\n",
       "      <th></th>\n",
       "      <th>Name</th>\n",
       "      <th>Age</th>\n",
       "      <th>Address</th>\n",
       "      <th>Qualification</th>\n",
       "    </tr>\n",
       "  </thead>\n",
       "  <tbody>\n",
       "    <tr>\n",
       "      <th>0</th>\n",
       "      <td>Jai</td>\n",
       "      <td>27</td>\n",
       "      <td>Delhi</td>\n",
       "      <td>Msc</td>\n",
       "    </tr>\n",
       "    <tr>\n",
       "      <th>1</th>\n",
       "      <td>Princi</td>\n",
       "      <td>24</td>\n",
       "      <td>Kanpur</td>\n",
       "      <td>MA</td>\n",
       "    </tr>\n",
       "    <tr>\n",
       "      <th>2</th>\n",
       "      <td>Gaurav</td>\n",
       "      <td>22</td>\n",
       "      <td>Allahavad</td>\n",
       "      <td>MCA</td>\n",
       "    </tr>\n",
       "    <tr>\n",
       "      <th>3</th>\n",
       "      <td>Anuj</td>\n",
       "      <td>32</td>\n",
       "      <td>Kannauj</td>\n",
       "      <td>Phd</td>\n",
       "    </tr>\n",
       "  </tbody>\n",
       "</table>\n",
       "</div>"
      ],
      "text/plain": [
       "     Name  Age    Address Qualification\n",
       "0     Jai   27      Delhi           Msc\n",
       "1  Princi   24     Kanpur            MA\n",
       "2  Gaurav   22  Allahavad           MCA\n",
       "3    Anuj   32    Kannauj           Phd"
      ]
     },
     "execution_count": 41,
     "metadata": {},
     "output_type": "execute_result"
    }
   ],
   "source": [
    "data = {\n",
    "    'Name': ['Jai', 'Princi', 'Gaurav', 'Anuj'],\n",
    "    'Age': [27, 24, 22, 32],\n",
    "    'Address': ['Delhi', 'Kanpur', 'Allahavad', 'Kannauj'],\n",
    "    'Qualification': ['Msc', 'MA', 'MCA', 'Phd']\n",
    "       }\n",
    "\n",
    "df = pd.DataFrame(data)\n",
    "df"
   ]
  },
  {
   "cell_type": "code",
   "execution_count": 48,
   "id": "55d4018d",
   "metadata": {},
   "outputs": [
    {
     "data": {
      "text/html": [
       "<div>\n",
       "<style scoped>\n",
       "    .dataframe tbody tr th:only-of-type {\n",
       "        vertical-align: middle;\n",
       "    }\n",
       "\n",
       "    .dataframe tbody tr th {\n",
       "        vertical-align: top;\n",
       "    }\n",
       "\n",
       "    .dataframe thead th {\n",
       "        text-align: right;\n",
       "    }\n",
       "</style>\n",
       "<table border=\"1\" class=\"dataframe\">\n",
       "  <thead>\n",
       "    <tr style=\"text-align: right;\">\n",
       "      <th></th>\n",
       "      <th>0</th>\n",
       "      <th>1</th>\n",
       "      <th>2</th>\n",
       "      <th>3</th>\n",
       "      <th>4</th>\n",
       "      <th>5</th>\n",
       "      <th>6</th>\n",
       "      <th>7</th>\n",
       "      <th>8</th>\n",
       "      <th>9</th>\n",
       "    </tr>\n",
       "  </thead>\n",
       "  <tbody>\n",
       "    <tr>\n",
       "      <th>0</th>\n",
       "      <td>Year</td>\n",
       "      <td>Industry_aggregation_NZSIOC</td>\n",
       "      <td>Industry_code_NZSIOC</td>\n",
       "      <td>Industry_name_NZSIOC</td>\n",
       "      <td>Units</td>\n",
       "      <td>Variable_code</td>\n",
       "      <td>Variable_name</td>\n",
       "      <td>Variable_category</td>\n",
       "      <td>Value</td>\n",
       "      <td>Industry_code_ANZSIC06</td>\n",
       "    </tr>\n",
       "    <tr>\n",
       "      <th>1</th>\n",
       "      <td>2021</td>\n",
       "      <td>Level 1</td>\n",
       "      <td>99999</td>\n",
       "      <td>All industries</td>\n",
       "      <td>Dollars (millions)</td>\n",
       "      <td>H01</td>\n",
       "      <td>Total income</td>\n",
       "      <td>Financial performance</td>\n",
       "      <td>757,504</td>\n",
       "      <td>ANZSIC06 divisions A-S (excluding classes K633...</td>\n",
       "    </tr>\n",
       "    <tr>\n",
       "      <th>2</th>\n",
       "      <td>2021</td>\n",
       "      <td>Level 1</td>\n",
       "      <td>99999</td>\n",
       "      <td>All industries</td>\n",
       "      <td>Dollars (millions)</td>\n",
       "      <td>H04</td>\n",
       "      <td>Sales, government funding, grants and subsidies</td>\n",
       "      <td>Financial performance</td>\n",
       "      <td>674,890</td>\n",
       "      <td>ANZSIC06 divisions A-S (excluding classes K633...</td>\n",
       "    </tr>\n",
       "    <tr>\n",
       "      <th>3</th>\n",
       "      <td>2021</td>\n",
       "      <td>Level 1</td>\n",
       "      <td>99999</td>\n",
       "      <td>All industries</td>\n",
       "      <td>Dollars (millions)</td>\n",
       "      <td>H05</td>\n",
       "      <td>Interest, dividends and donations</td>\n",
       "      <td>Financial performance</td>\n",
       "      <td>49,593</td>\n",
       "      <td>ANZSIC06 divisions A-S (excluding classes K633...</td>\n",
       "    </tr>\n",
       "    <tr>\n",
       "      <th>4</th>\n",
       "      <td>2021</td>\n",
       "      <td>Level 1</td>\n",
       "      <td>99999</td>\n",
       "      <td>All industries</td>\n",
       "      <td>Dollars (millions)</td>\n",
       "      <td>H07</td>\n",
       "      <td>Non-operating income</td>\n",
       "      <td>Financial performance</td>\n",
       "      <td>33,020</td>\n",
       "      <td>ANZSIC06 divisions A-S (excluding classes K633...</td>\n",
       "    </tr>\n",
       "    <tr>\n",
       "      <th>5</th>\n",
       "      <td>2021</td>\n",
       "      <td>Level 1</td>\n",
       "      <td>99999</td>\n",
       "      <td>All industries</td>\n",
       "      <td>Dollars (millions)</td>\n",
       "      <td>H08</td>\n",
       "      <td>Total expenditure</td>\n",
       "      <td>Financial performance</td>\n",
       "      <td>654,404</td>\n",
       "      <td>ANZSIC06 divisions A-S (excluding classes K633...</td>\n",
       "    </tr>\n",
       "    <tr>\n",
       "      <th>6</th>\n",
       "      <td>2021</td>\n",
       "      <td>Level 1</td>\n",
       "      <td>99999</td>\n",
       "      <td>All industries</td>\n",
       "      <td>Dollars (millions)</td>\n",
       "      <td>H09</td>\n",
       "      <td>Interest and donations</td>\n",
       "      <td>Financial performance</td>\n",
       "      <td>26,138</td>\n",
       "      <td>ANZSIC06 divisions A-S (excluding classes K633...</td>\n",
       "    </tr>\n",
       "    <tr>\n",
       "      <th>7</th>\n",
       "      <td>2021</td>\n",
       "      <td>Level 1</td>\n",
       "      <td>99999</td>\n",
       "      <td>All industries</td>\n",
       "      <td>Dollars (millions)</td>\n",
       "      <td>H10</td>\n",
       "      <td>Indirect taxes</td>\n",
       "      <td>Financial performance</td>\n",
       "      <td>6,991</td>\n",
       "      <td>ANZSIC06 divisions A-S (excluding classes K633...</td>\n",
       "    </tr>\n",
       "    <tr>\n",
       "      <th>8</th>\n",
       "      <td>2021</td>\n",
       "      <td>Level 1</td>\n",
       "      <td>99999</td>\n",
       "      <td>All industries</td>\n",
       "      <td>Dollars (millions)</td>\n",
       "      <td>H11</td>\n",
       "      <td>Depreciation</td>\n",
       "      <td>Financial performance</td>\n",
       "      <td>27,801</td>\n",
       "      <td>ANZSIC06 divisions A-S (excluding classes K633...</td>\n",
       "    </tr>\n",
       "    <tr>\n",
       "      <th>9</th>\n",
       "      <td>2021</td>\n",
       "      <td>Level 1</td>\n",
       "      <td>99999</td>\n",
       "      <td>All industries</td>\n",
       "      <td>Dollars (millions)</td>\n",
       "      <td>H12</td>\n",
       "      <td>Salaries and wages paid</td>\n",
       "      <td>Financial performance</td>\n",
       "      <td>123,620</td>\n",
       "      <td>ANZSIC06 divisions A-S (excluding classes K633...</td>\n",
       "    </tr>\n",
       "  </tbody>\n",
       "</table>\n",
       "</div>"
      ],
      "text/plain": [
       "      0                            1                     2  \\\n",
       "0  Year  Industry_aggregation_NZSIOC  Industry_code_NZSIOC   \n",
       "1  2021                      Level 1                 99999   \n",
       "2  2021                      Level 1                 99999   \n",
       "3  2021                      Level 1                 99999   \n",
       "4  2021                      Level 1                 99999   \n",
       "5  2021                      Level 1                 99999   \n",
       "6  2021                      Level 1                 99999   \n",
       "7  2021                      Level 1                 99999   \n",
       "8  2021                      Level 1                 99999   \n",
       "9  2021                      Level 1                 99999   \n",
       "\n",
       "                      3                   4              5  \\\n",
       "0  Industry_name_NZSIOC               Units  Variable_code   \n",
       "1        All industries  Dollars (millions)            H01   \n",
       "2        All industries  Dollars (millions)            H04   \n",
       "3        All industries  Dollars (millions)            H05   \n",
       "4        All industries  Dollars (millions)            H07   \n",
       "5        All industries  Dollars (millions)            H08   \n",
       "6        All industries  Dollars (millions)            H09   \n",
       "7        All industries  Dollars (millions)            H10   \n",
       "8        All industries  Dollars (millions)            H11   \n",
       "9        All industries  Dollars (millions)            H12   \n",
       "\n",
       "                                                 6                      7  \\\n",
       "0                                    Variable_name      Variable_category   \n",
       "1                                     Total income  Financial performance   \n",
       "2  Sales, government funding, grants and subsidies  Financial performance   \n",
       "3                Interest, dividends and donations  Financial performance   \n",
       "4                             Non-operating income  Financial performance   \n",
       "5                                Total expenditure  Financial performance   \n",
       "6                           Interest and donations  Financial performance   \n",
       "7                                   Indirect taxes  Financial performance   \n",
       "8                                     Depreciation  Financial performance   \n",
       "9                          Salaries and wages paid  Financial performance   \n",
       "\n",
       "         8                                                  9  \n",
       "0    Value                             Industry_code_ANZSIC06  \n",
       "1  757,504  ANZSIC06 divisions A-S (excluding classes K633...  \n",
       "2  674,890  ANZSIC06 divisions A-S (excluding classes K633...  \n",
       "3   49,593  ANZSIC06 divisions A-S (excluding classes K633...  \n",
       "4   33,020  ANZSIC06 divisions A-S (excluding classes K633...  \n",
       "5  654,404  ANZSIC06 divisions A-S (excluding classes K633...  \n",
       "6   26,138  ANZSIC06 divisions A-S (excluding classes K633...  \n",
       "7    6,991  ANZSIC06 divisions A-S (excluding classes K633...  \n",
       "8   27,801  ANZSIC06 divisions A-S (excluding classes K633...  \n",
       "9  123,620  ANZSIC06 divisions A-S (excluding classes K633...  "
      ]
     },
     "execution_count": 48,
     "metadata": {},
     "output_type": "execute_result"
    }
   ],
   "source": [
    "df = pd.read_csv('./example.csv', sep=',', header = None, nrows=10)\n",
    "df"
   ]
  },
  {
   "cell_type": "code",
   "execution_count": 51,
   "id": "e7fa1f88",
   "metadata": {},
   "outputs": [
    {
     "data": {
      "text/html": [
       "<div>\n",
       "<style scoped>\n",
       "    .dataframe tbody tr th:only-of-type {\n",
       "        vertical-align: middle;\n",
       "    }\n",
       "\n",
       "    .dataframe tbody tr th {\n",
       "        vertical-align: top;\n",
       "    }\n",
       "\n",
       "    .dataframe thead th {\n",
       "        text-align: right;\n",
       "    }\n",
       "</style>\n",
       "<table border=\"1\" class=\"dataframe\">\n",
       "  <thead>\n",
       "    <tr style=\"text-align: right;\">\n",
       "      <th></th>\n",
       "      <th>0</th>\n",
       "      <th>1</th>\n",
       "      <th>2</th>\n",
       "      <th>3</th>\n",
       "      <th>4</th>\n",
       "      <th>5</th>\n",
       "      <th>6</th>\n",
       "      <th>7</th>\n",
       "      <th>8</th>\n",
       "      <th>9</th>\n",
       "    </tr>\n",
       "  </thead>\n",
       "  <tbody>\n",
       "    <tr>\n",
       "      <th>0</th>\n",
       "      <td>Year</td>\n",
       "      <td>Industry_aggregation_NZSIOC</td>\n",
       "      <td>Industry_code_NZSIOC</td>\n",
       "      <td>Industry_name_NZSIOC</td>\n",
       "      <td>Units</td>\n",
       "      <td>Variable_code</td>\n",
       "      <td>Variable_name</td>\n",
       "      <td>Variable_category</td>\n",
       "      <td>Value</td>\n",
       "      <td>Industry_code_ANZSIC06</td>\n",
       "    </tr>\n",
       "    <tr>\n",
       "      <th>1</th>\n",
       "      <td>2021</td>\n",
       "      <td>Level 1</td>\n",
       "      <td>99999</td>\n",
       "      <td>All industries</td>\n",
       "      <td>Dollars (millions)</td>\n",
       "      <td>H01</td>\n",
       "      <td>Total income</td>\n",
       "      <td>Financial performance</td>\n",
       "      <td>757,504</td>\n",
       "      <td>ANZSIC06 divisions A-S (excluding classes K633...</td>\n",
       "    </tr>\n",
       "    <tr>\n",
       "      <th>2</th>\n",
       "      <td>2021</td>\n",
       "      <td>Level 1</td>\n",
       "      <td>99999</td>\n",
       "      <td>All industries</td>\n",
       "      <td>Dollars (millions)</td>\n",
       "      <td>H04</td>\n",
       "      <td>Sales, government funding, grants and subsidies</td>\n",
       "      <td>Financial performance</td>\n",
       "      <td>674,890</td>\n",
       "      <td>ANZSIC06 divisions A-S (excluding classes K633...</td>\n",
       "    </tr>\n",
       "    <tr>\n",
       "      <th>3</th>\n",
       "      <td>2021</td>\n",
       "      <td>Level 1</td>\n",
       "      <td>99999</td>\n",
       "      <td>All industries</td>\n",
       "      <td>Dollars (millions)</td>\n",
       "      <td>H05</td>\n",
       "      <td>Interest, dividends and donations</td>\n",
       "      <td>Financial performance</td>\n",
       "      <td>49,593</td>\n",
       "      <td>ANZSIC06 divisions A-S (excluding classes K633...</td>\n",
       "    </tr>\n",
       "    <tr>\n",
       "      <th>4</th>\n",
       "      <td>2021</td>\n",
       "      <td>Level 1</td>\n",
       "      <td>99999</td>\n",
       "      <td>All industries</td>\n",
       "      <td>Dollars (millions)</td>\n",
       "      <td>H07</td>\n",
       "      <td>Non-operating income</td>\n",
       "      <td>Financial performance</td>\n",
       "      <td>33,020</td>\n",
       "      <td>ANZSIC06 divisions A-S (excluding classes K633...</td>\n",
       "    </tr>\n",
       "  </tbody>\n",
       "</table>\n",
       "</div>"
      ],
      "text/plain": [
       "      0                            1                     2  \\\n",
       "0  Year  Industry_aggregation_NZSIOC  Industry_code_NZSIOC   \n",
       "1  2021                      Level 1                 99999   \n",
       "2  2021                      Level 1                 99999   \n",
       "3  2021                      Level 1                 99999   \n",
       "4  2021                      Level 1                 99999   \n",
       "\n",
       "                      3                   4              5  \\\n",
       "0  Industry_name_NZSIOC               Units  Variable_code   \n",
       "1        All industries  Dollars (millions)            H01   \n",
       "2        All industries  Dollars (millions)            H04   \n",
       "3        All industries  Dollars (millions)            H05   \n",
       "4        All industries  Dollars (millions)            H07   \n",
       "\n",
       "                                                 6                      7  \\\n",
       "0                                    Variable_name      Variable_category   \n",
       "1                                     Total income  Financial performance   \n",
       "2  Sales, government funding, grants and subsidies  Financial performance   \n",
       "3                Interest, dividends and donations  Financial performance   \n",
       "4                             Non-operating income  Financial performance   \n",
       "\n",
       "         8                                                  9  \n",
       "0    Value                             Industry_code_ANZSIC06  \n",
       "1  757,504  ANZSIC06 divisions A-S (excluding classes K633...  \n",
       "2  674,890  ANZSIC06 divisions A-S (excluding classes K633...  \n",
       "3   49,593  ANZSIC06 divisions A-S (excluding classes K633...  \n",
       "4   33,020  ANZSIC06 divisions A-S (excluding classes K633...  "
      ]
     },
     "execution_count": 51,
     "metadata": {},
     "output_type": "execute_result"
    }
   ],
   "source": [
    "df.head(5) # 5 строк с начала"
   ]
  },
  {
   "cell_type": "code",
   "execution_count": 53,
   "id": "0a3f6d93",
   "metadata": {},
   "outputs": [
    {
     "name": "stdout",
     "output_type": "stream",
     "text": [
      "<class 'pandas.core.frame.DataFrame'>\n",
      "RangeIndex: 10 entries, 0 to 9\n",
      "Data columns (total 10 columns):\n",
      " #   Column  Non-Null Count  Dtype \n",
      "---  ------  --------------  ----- \n",
      " 0   0       10 non-null     object\n",
      " 1   1       10 non-null     object\n",
      " 2   2       10 non-null     object\n",
      " 3   3       10 non-null     object\n",
      " 4   4       10 non-null     object\n",
      " 5   5       10 non-null     object\n",
      " 6   6       10 non-null     object\n",
      " 7   7       10 non-null     object\n",
      " 8   8       10 non-null     object\n",
      " 9   9       10 non-null     object\n",
      "dtypes: object(10)\n",
      "memory usage: 928.0+ bytes\n"
     ]
    }
   ],
   "source": [
    "df.info() # Index, Datatype and Memory information"
   ]
  },
  {
   "cell_type": "code",
   "execution_count": 54,
   "id": "8bb8872b",
   "metadata": {},
   "outputs": [
    {
     "data": {
      "text/html": [
       "<div>\n",
       "<style scoped>\n",
       "    .dataframe tbody tr th:only-of-type {\n",
       "        vertical-align: middle;\n",
       "    }\n",
       "\n",
       "    .dataframe tbody tr th {\n",
       "        vertical-align: top;\n",
       "    }\n",
       "\n",
       "    .dataframe thead th {\n",
       "        text-align: right;\n",
       "    }\n",
       "</style>\n",
       "<table border=\"1\" class=\"dataframe\">\n",
       "  <thead>\n",
       "    <tr style=\"text-align: right;\">\n",
       "      <th></th>\n",
       "      <th>0</th>\n",
       "      <th>1</th>\n",
       "      <th>2</th>\n",
       "      <th>3</th>\n",
       "      <th>4</th>\n",
       "      <th>5</th>\n",
       "      <th>6</th>\n",
       "      <th>7</th>\n",
       "      <th>8</th>\n",
       "      <th>9</th>\n",
       "    </tr>\n",
       "  </thead>\n",
       "  <tbody>\n",
       "    <tr>\n",
       "      <th>count</th>\n",
       "      <td>10</td>\n",
       "      <td>10</td>\n",
       "      <td>10</td>\n",
       "      <td>10</td>\n",
       "      <td>10</td>\n",
       "      <td>10</td>\n",
       "      <td>10</td>\n",
       "      <td>10</td>\n",
       "      <td>10</td>\n",
       "      <td>10</td>\n",
       "    </tr>\n",
       "    <tr>\n",
       "      <th>unique</th>\n",
       "      <td>2</td>\n",
       "      <td>2</td>\n",
       "      <td>2</td>\n",
       "      <td>2</td>\n",
       "      <td>2</td>\n",
       "      <td>10</td>\n",
       "      <td>10</td>\n",
       "      <td>2</td>\n",
       "      <td>10</td>\n",
       "      <td>2</td>\n",
       "    </tr>\n",
       "    <tr>\n",
       "      <th>top</th>\n",
       "      <td>2021</td>\n",
       "      <td>Level 1</td>\n",
       "      <td>99999</td>\n",
       "      <td>All industries</td>\n",
       "      <td>Dollars (millions)</td>\n",
       "      <td>Variable_code</td>\n",
       "      <td>Variable_name</td>\n",
       "      <td>Financial performance</td>\n",
       "      <td>Value</td>\n",
       "      <td>ANZSIC06 divisions A-S (excluding classes K633...</td>\n",
       "    </tr>\n",
       "    <tr>\n",
       "      <th>freq</th>\n",
       "      <td>9</td>\n",
       "      <td>9</td>\n",
       "      <td>9</td>\n",
       "      <td>9</td>\n",
       "      <td>9</td>\n",
       "      <td>1</td>\n",
       "      <td>1</td>\n",
       "      <td>9</td>\n",
       "      <td>1</td>\n",
       "      <td>9</td>\n",
       "    </tr>\n",
       "  </tbody>\n",
       "</table>\n",
       "</div>"
      ],
      "text/plain": [
       "           0        1      2               3                   4  \\\n",
       "count     10       10     10              10                  10   \n",
       "unique     2        2      2               2                   2   \n",
       "top     2021  Level 1  99999  All industries  Dollars (millions)   \n",
       "freq       9        9      9               9                   9   \n",
       "\n",
       "                    5              6                      7      8  \\\n",
       "count              10             10                     10     10   \n",
       "unique             10             10                      2     10   \n",
       "top     Variable_code  Variable_name  Financial performance  Value   \n",
       "freq                1              1                      9      1   \n",
       "\n",
       "                                                        9  \n",
       "count                                                  10  \n",
       "unique                                                  2  \n",
       "top     ANZSIC06 divisions A-S (excluding classes K633...  \n",
       "freq                                                    9  "
      ]
     },
     "execution_count": 54,
     "metadata": {},
     "output_type": "execute_result"
    }
   ],
   "source": [
    "df.describe() #Summary statistic for numerical columns"
   ]
  },
  {
   "cell_type": "code",
   "execution_count": 52,
   "id": "ff9a4e4f",
   "metadata": {},
   "outputs": [
    {
     "data": {
      "text/html": [
       "<div>\n",
       "<style scoped>\n",
       "    .dataframe tbody tr th:only-of-type {\n",
       "        vertical-align: middle;\n",
       "    }\n",
       "\n",
       "    .dataframe tbody tr th {\n",
       "        vertical-align: top;\n",
       "    }\n",
       "\n",
       "    .dataframe thead th {\n",
       "        text-align: right;\n",
       "    }\n",
       "</style>\n",
       "<table border=\"1\" class=\"dataframe\">\n",
       "  <thead>\n",
       "    <tr style=\"text-align: right;\">\n",
       "      <th></th>\n",
       "      <th>0</th>\n",
       "      <th>1</th>\n",
       "      <th>2</th>\n",
       "      <th>3</th>\n",
       "      <th>4</th>\n",
       "      <th>5</th>\n",
       "      <th>6</th>\n",
       "      <th>7</th>\n",
       "      <th>8</th>\n",
       "      <th>9</th>\n",
       "    </tr>\n",
       "  </thead>\n",
       "  <tbody>\n",
       "    <tr>\n",
       "      <th>5</th>\n",
       "      <td>2021</td>\n",
       "      <td>Level 1</td>\n",
       "      <td>99999</td>\n",
       "      <td>All industries</td>\n",
       "      <td>Dollars (millions)</td>\n",
       "      <td>H08</td>\n",
       "      <td>Total expenditure</td>\n",
       "      <td>Financial performance</td>\n",
       "      <td>654,404</td>\n",
       "      <td>ANZSIC06 divisions A-S (excluding classes K633...</td>\n",
       "    </tr>\n",
       "    <tr>\n",
       "      <th>6</th>\n",
       "      <td>2021</td>\n",
       "      <td>Level 1</td>\n",
       "      <td>99999</td>\n",
       "      <td>All industries</td>\n",
       "      <td>Dollars (millions)</td>\n",
       "      <td>H09</td>\n",
       "      <td>Interest and donations</td>\n",
       "      <td>Financial performance</td>\n",
       "      <td>26,138</td>\n",
       "      <td>ANZSIC06 divisions A-S (excluding classes K633...</td>\n",
       "    </tr>\n",
       "    <tr>\n",
       "      <th>7</th>\n",
       "      <td>2021</td>\n",
       "      <td>Level 1</td>\n",
       "      <td>99999</td>\n",
       "      <td>All industries</td>\n",
       "      <td>Dollars (millions)</td>\n",
       "      <td>H10</td>\n",
       "      <td>Indirect taxes</td>\n",
       "      <td>Financial performance</td>\n",
       "      <td>6,991</td>\n",
       "      <td>ANZSIC06 divisions A-S (excluding classes K633...</td>\n",
       "    </tr>\n",
       "    <tr>\n",
       "      <th>8</th>\n",
       "      <td>2021</td>\n",
       "      <td>Level 1</td>\n",
       "      <td>99999</td>\n",
       "      <td>All industries</td>\n",
       "      <td>Dollars (millions)</td>\n",
       "      <td>H11</td>\n",
       "      <td>Depreciation</td>\n",
       "      <td>Financial performance</td>\n",
       "      <td>27,801</td>\n",
       "      <td>ANZSIC06 divisions A-S (excluding classes K633...</td>\n",
       "    </tr>\n",
       "    <tr>\n",
       "      <th>9</th>\n",
       "      <td>2021</td>\n",
       "      <td>Level 1</td>\n",
       "      <td>99999</td>\n",
       "      <td>All industries</td>\n",
       "      <td>Dollars (millions)</td>\n",
       "      <td>H12</td>\n",
       "      <td>Salaries and wages paid</td>\n",
       "      <td>Financial performance</td>\n",
       "      <td>123,620</td>\n",
       "      <td>ANZSIC06 divisions A-S (excluding classes K633...</td>\n",
       "    </tr>\n",
       "  </tbody>\n",
       "</table>\n",
       "</div>"
      ],
      "text/plain": [
       "      0        1      2               3                   4    5  \\\n",
       "5  2021  Level 1  99999  All industries  Dollars (millions)  H08   \n",
       "6  2021  Level 1  99999  All industries  Dollars (millions)  H09   \n",
       "7  2021  Level 1  99999  All industries  Dollars (millions)  H10   \n",
       "8  2021  Level 1  99999  All industries  Dollars (millions)  H11   \n",
       "9  2021  Level 1  99999  All industries  Dollars (millions)  H12   \n",
       "\n",
       "                         6                      7        8  \\\n",
       "5        Total expenditure  Financial performance  654,404   \n",
       "6   Interest and donations  Financial performance   26,138   \n",
       "7           Indirect taxes  Financial performance    6,991   \n",
       "8             Depreciation  Financial performance   27,801   \n",
       "9  Salaries and wages paid  Financial performance  123,620   \n",
       "\n",
       "                                                   9  \n",
       "5  ANZSIC06 divisions A-S (excluding classes K633...  \n",
       "6  ANZSIC06 divisions A-S (excluding classes K633...  \n",
       "7  ANZSIC06 divisions A-S (excluding classes K633...  \n",
       "8  ANZSIC06 divisions A-S (excluding classes K633...  \n",
       "9  ANZSIC06 divisions A-S (excluding classes K633...  "
      ]
     },
     "execution_count": 52,
     "metadata": {},
     "output_type": "execute_result"
    }
   ],
   "source": [
    "df.tail(5) # 5 строк с конца"
   ]
  },
  {
   "cell_type": "code",
   "execution_count": 55,
   "id": "ad349508",
   "metadata": {},
   "outputs": [
    {
     "name": "stdout",
     "output_type": "stream",
     "text": [
      "(10, 10) \n",
      "\n"
     ]
    }
   ],
   "source": [
    "print(df.shape, '\\n')"
   ]
  },
  {
   "cell_type": "code",
   "execution_count": 56,
   "id": "2a197541",
   "metadata": {},
   "outputs": [
    {
     "name": "stdout",
     "output_type": "stream",
     "text": [
      "2\n"
     ]
    }
   ],
   "source": [
    "print(df.ndim)"
   ]
  },
  {
   "cell_type": "code",
   "execution_count": 57,
   "id": "d796bd75",
   "metadata": {},
   "outputs": [
    {
     "name": "stdout",
     "output_type": "stream",
     "text": [
      "100\n"
     ]
    }
   ],
   "source": [
    "print(df.size)"
   ]
  },
  {
   "cell_type": "code",
   "execution_count": 58,
   "id": "c3038366",
   "metadata": {},
   "outputs": [
    {
     "name": "stdout",
     "output_type": "stream",
     "text": [
      "RangeIndex(start=0, stop=10, step=1)\n"
     ]
    }
   ],
   "source": [
    "print(df.index)"
   ]
  },
  {
   "cell_type": "code",
   "execution_count": 59,
   "id": "ec564521",
   "metadata": {},
   "outputs": [
    {
     "name": "stdout",
     "output_type": "stream",
     "text": [
      "0    10\n",
      "1    10\n",
      "2    10\n",
      "3    10\n",
      "4    10\n",
      "5    10\n",
      "6    10\n",
      "7    10\n",
      "8    10\n",
      "9    10\n",
      "dtype: int64\n"
     ]
    }
   ],
   "source": [
    "print(df.count())"
   ]
  },
  {
   "cell_type": "code",
   "execution_count": 60,
   "id": "1b4c7742",
   "metadata": {},
   "outputs": [
    {
     "data": {
      "text/plain": [
       "0     1                            2                     3                     4                   5              6                                                7                      8        9                                                                                                               \n",
       "2021  Level 1                      99999                 All industries        Dollars (millions)  H01            Total income                                     Financial performance  757,504  ANZSIC06 divisions A-S (excluding classes K6330, L6711, O7552, O760, O771, O772, S9540, S9601, S9602, and S9603)    1\n",
       "                                                                                                   H04            Sales, government funding, grants and subsidies  Financial performance  674,890  ANZSIC06 divisions A-S (excluding classes K6330, L6711, O7552, O760, O771, O772, S9540, S9601, S9602, and S9603)    1\n",
       "                                                                                                   H05            Interest, dividends and donations                Financial performance  49,593   ANZSIC06 divisions A-S (excluding classes K6330, L6711, O7552, O760, O771, O772, S9540, S9601, S9602, and S9603)    1\n",
       "                                                                                                   H07            Non-operating income                             Financial performance  33,020   ANZSIC06 divisions A-S (excluding classes K6330, L6711, O7552, O760, O771, O772, S9540, S9601, S9602, and S9603)    1\n",
       "                                                                                                   H08            Total expenditure                                Financial performance  654,404  ANZSIC06 divisions A-S (excluding classes K6330, L6711, O7552, O760, O771, O772, S9540, S9601, S9602, and S9603)    1\n",
       "                                                                                                   H09            Interest and donations                           Financial performance  26,138   ANZSIC06 divisions A-S (excluding classes K6330, L6711, O7552, O760, O771, O772, S9540, S9601, S9602, and S9603)    1\n",
       "                                                                                                   H10            Indirect taxes                                   Financial performance  6,991    ANZSIC06 divisions A-S (excluding classes K6330, L6711, O7552, O760, O771, O772, S9540, S9601, S9602, and S9603)    1\n",
       "                                                                                                   H11            Depreciation                                     Financial performance  27,801   ANZSIC06 divisions A-S (excluding classes K6330, L6711, O7552, O760, O771, O772, S9540, S9601, S9602, and S9603)    1\n",
       "                                                                                                   H12            Salaries and wages paid                          Financial performance  123,620  ANZSIC06 divisions A-S (excluding classes K6330, L6711, O7552, O760, O771, O772, S9540, S9601, S9602, and S9603)    1\n",
       "Year  Industry_aggregation_NZSIOC  Industry_code_NZSIOC  Industry_name_NZSIOC  Units               Variable_code  Variable_name                                    Variable_category      Value    Industry_code_ANZSIC06                                                                                              1\n",
       "dtype: int64"
      ]
     },
     "execution_count": 60,
     "metadata": {},
     "output_type": "execute_result"
    }
   ],
   "source": [
    "df.value_counts()"
   ]
  },
  {
   "cell_type": "code",
   "execution_count": 67,
   "id": "2053c27d",
   "metadata": {},
   "outputs": [
    {
     "data": {
      "text/html": [
       "<div>\n",
       "<style scoped>\n",
       "    .dataframe tbody tr th:only-of-type {\n",
       "        vertical-align: middle;\n",
       "    }\n",
       "\n",
       "    .dataframe tbody tr th {\n",
       "        vertical-align: top;\n",
       "    }\n",
       "\n",
       "    .dataframe thead th {\n",
       "        text-align: right;\n",
       "    }\n",
       "</style>\n",
       "<table border=\"1\" class=\"dataframe\">\n",
       "  <thead>\n",
       "    <tr style=\"text-align: right;\">\n",
       "      <th></th>\n",
       "      <th>Year</th>\n",
       "      <th>Industry_aggregation_NZSIOC</th>\n",
       "      <th>Industry_code_NZSIOC</th>\n",
       "      <th>Industry_name_NZSIOC</th>\n",
       "      <th>Units</th>\n",
       "      <th>Variable_code</th>\n",
       "      <th>Variable_name</th>\n",
       "      <th>Variable_category</th>\n",
       "      <th>Value</th>\n",
       "      <th>Industry_code_ANZSIC06</th>\n",
       "    </tr>\n",
       "  </thead>\n",
       "  <tbody>\n",
       "    <tr>\n",
       "      <th>0</th>\n",
       "      <td>2021</td>\n",
       "      <td>Level 1</td>\n",
       "      <td>99999</td>\n",
       "      <td>All industries</td>\n",
       "      <td>Dollars (millions)</td>\n",
       "      <td>H01</td>\n",
       "      <td>Total income</td>\n",
       "      <td>Financial performance</td>\n",
       "      <td>757,504</td>\n",
       "      <td>ANZSIC06 divisions A-S (excluding classes K633...</td>\n",
       "    </tr>\n",
       "    <tr>\n",
       "      <th>1</th>\n",
       "      <td>2021</td>\n",
       "      <td>Level 1</td>\n",
       "      <td>99999</td>\n",
       "      <td>All industries</td>\n",
       "      <td>Dollars (millions)</td>\n",
       "      <td>H04</td>\n",
       "      <td>Sales, government funding, grants and subsidies</td>\n",
       "      <td>Financial performance</td>\n",
       "      <td>674,890</td>\n",
       "      <td>ANZSIC06 divisions A-S (excluding classes K633...</td>\n",
       "    </tr>\n",
       "    <tr>\n",
       "      <th>2</th>\n",
       "      <td>2021</td>\n",
       "      <td>Level 1</td>\n",
       "      <td>99999</td>\n",
       "      <td>All industries</td>\n",
       "      <td>Dollars (millions)</td>\n",
       "      <td>H05</td>\n",
       "      <td>Interest, dividends and donations</td>\n",
       "      <td>Financial performance</td>\n",
       "      <td>49,593</td>\n",
       "      <td>ANZSIC06 divisions A-S (excluding classes K633...</td>\n",
       "    </tr>\n",
       "    <tr>\n",
       "      <th>3</th>\n",
       "      <td>2021</td>\n",
       "      <td>Level 1</td>\n",
       "      <td>99999</td>\n",
       "      <td>All industries</td>\n",
       "      <td>Dollars (millions)</td>\n",
       "      <td>H07</td>\n",
       "      <td>Non-operating income</td>\n",
       "      <td>Financial performance</td>\n",
       "      <td>33,020</td>\n",
       "      <td>ANZSIC06 divisions A-S (excluding classes K633...</td>\n",
       "    </tr>\n",
       "    <tr>\n",
       "      <th>4</th>\n",
       "      <td>2021</td>\n",
       "      <td>Level 1</td>\n",
       "      <td>99999</td>\n",
       "      <td>All industries</td>\n",
       "      <td>Dollars (millions)</td>\n",
       "      <td>H08</td>\n",
       "      <td>Total expenditure</td>\n",
       "      <td>Financial performance</td>\n",
       "      <td>654,404</td>\n",
       "      <td>ANZSIC06 divisions A-S (excluding classes K633...</td>\n",
       "    </tr>\n",
       "    <tr>\n",
       "      <th>5</th>\n",
       "      <td>2021</td>\n",
       "      <td>Level 1</td>\n",
       "      <td>99999</td>\n",
       "      <td>All industries</td>\n",
       "      <td>Dollars (millions)</td>\n",
       "      <td>H09</td>\n",
       "      <td>Interest and donations</td>\n",
       "      <td>Financial performance</td>\n",
       "      <td>26,138</td>\n",
       "      <td>ANZSIC06 divisions A-S (excluding classes K633...</td>\n",
       "    </tr>\n",
       "    <tr>\n",
       "      <th>6</th>\n",
       "      <td>2021</td>\n",
       "      <td>Level 1</td>\n",
       "      <td>99999</td>\n",
       "      <td>All industries</td>\n",
       "      <td>Dollars (millions)</td>\n",
       "      <td>H10</td>\n",
       "      <td>Indirect taxes</td>\n",
       "      <td>Financial performance</td>\n",
       "      <td>6,991</td>\n",
       "      <td>ANZSIC06 divisions A-S (excluding classes K633...</td>\n",
       "    </tr>\n",
       "    <tr>\n",
       "      <th>7</th>\n",
       "      <td>2021</td>\n",
       "      <td>Level 1</td>\n",
       "      <td>99999</td>\n",
       "      <td>All industries</td>\n",
       "      <td>Dollars (millions)</td>\n",
       "      <td>H11</td>\n",
       "      <td>Depreciation</td>\n",
       "      <td>Financial performance</td>\n",
       "      <td>27,801</td>\n",
       "      <td>ANZSIC06 divisions A-S (excluding classes K633...</td>\n",
       "    </tr>\n",
       "    <tr>\n",
       "      <th>8</th>\n",
       "      <td>2021</td>\n",
       "      <td>Level 1</td>\n",
       "      <td>99999</td>\n",
       "      <td>All industries</td>\n",
       "      <td>Dollars (millions)</td>\n",
       "      <td>H12</td>\n",
       "      <td>Salaries and wages paid</td>\n",
       "      <td>Financial performance</td>\n",
       "      <td>123,620</td>\n",
       "      <td>ANZSIC06 divisions A-S (excluding classes K633...</td>\n",
       "    </tr>\n",
       "    <tr>\n",
       "      <th>9</th>\n",
       "      <td>2021</td>\n",
       "      <td>Level 1</td>\n",
       "      <td>99999</td>\n",
       "      <td>All industries</td>\n",
       "      <td>Dollars (millions)</td>\n",
       "      <td>H13</td>\n",
       "      <td>Redundancy and severance</td>\n",
       "      <td>Financial performance</td>\n",
       "      <td>275</td>\n",
       "      <td>ANZSIC06 divisions A-S (excluding classes K633...</td>\n",
       "    </tr>\n",
       "  </tbody>\n",
       "</table>\n",
       "</div>"
      ],
      "text/plain": [
       "   Year Industry_aggregation_NZSIOC  Industry_code_NZSIOC  \\\n",
       "0  2021                     Level 1                 99999   \n",
       "1  2021                     Level 1                 99999   \n",
       "2  2021                     Level 1                 99999   \n",
       "3  2021                     Level 1                 99999   \n",
       "4  2021                     Level 1                 99999   \n",
       "5  2021                     Level 1                 99999   \n",
       "6  2021                     Level 1                 99999   \n",
       "7  2021                     Level 1                 99999   \n",
       "8  2021                     Level 1                 99999   \n",
       "9  2021                     Level 1                 99999   \n",
       "\n",
       "  Industry_name_NZSIOC               Units Variable_code  \\\n",
       "0       All industries  Dollars (millions)           H01   \n",
       "1       All industries  Dollars (millions)           H04   \n",
       "2       All industries  Dollars (millions)           H05   \n",
       "3       All industries  Dollars (millions)           H07   \n",
       "4       All industries  Dollars (millions)           H08   \n",
       "5       All industries  Dollars (millions)           H09   \n",
       "6       All industries  Dollars (millions)           H10   \n",
       "7       All industries  Dollars (millions)           H11   \n",
       "8       All industries  Dollars (millions)           H12   \n",
       "9       All industries  Dollars (millions)           H13   \n",
       "\n",
       "                                     Variable_name      Variable_category  \\\n",
       "0                                     Total income  Financial performance   \n",
       "1  Sales, government funding, grants and subsidies  Financial performance   \n",
       "2                Interest, dividends and donations  Financial performance   \n",
       "3                             Non-operating income  Financial performance   \n",
       "4                                Total expenditure  Financial performance   \n",
       "5                           Interest and donations  Financial performance   \n",
       "6                                   Indirect taxes  Financial performance   \n",
       "7                                     Depreciation  Financial performance   \n",
       "8                          Salaries and wages paid  Financial performance   \n",
       "9                         Redundancy and severance  Financial performance   \n",
       "\n",
       "     Value                             Industry_code_ANZSIC06  \n",
       "0  757,504  ANZSIC06 divisions A-S (excluding classes K633...  \n",
       "1  674,890  ANZSIC06 divisions A-S (excluding classes K633...  \n",
       "2   49,593  ANZSIC06 divisions A-S (excluding classes K633...  \n",
       "3   33,020  ANZSIC06 divisions A-S (excluding classes K633...  \n",
       "4  654,404  ANZSIC06 divisions A-S (excluding classes K633...  \n",
       "5   26,138  ANZSIC06 divisions A-S (excluding classes K633...  \n",
       "6    6,991  ANZSIC06 divisions A-S (excluding classes K633...  \n",
       "7   27,801  ANZSIC06 divisions A-S (excluding classes K633...  \n",
       "8  123,620  ANZSIC06 divisions A-S (excluding classes K633...  \n",
       "9      275  ANZSIC06 divisions A-S (excluding classes K633...  "
      ]
     },
     "execution_count": 67,
     "metadata": {},
     "output_type": "execute_result"
    }
   ],
   "source": [
    "df = pd.read_csv('./example.csv', sep=',', nrows=10)\n",
    "df"
   ]
  },
  {
   "cell_type": "code",
   "execution_count": 68,
   "id": "daeb6719",
   "metadata": {},
   "outputs": [
    {
     "data": {
      "text/plain": [
       "H01    1\n",
       "H04    1\n",
       "H05    1\n",
       "H07    1\n",
       "H08    1\n",
       "H09    1\n",
       "H10    1\n",
       "H11    1\n",
       "H12    1\n",
       "H13    1\n",
       "Name: Variable_code, dtype: int64"
      ]
     },
     "execution_count": 68,
     "metadata": {},
     "output_type": "execute_result"
    }
   ],
   "source": [
    "df[\"Variable_code\"].value_counts() # кол-во значений в столбце"
   ]
  },
  {
   "cell_type": "code",
   "execution_count": 70,
   "id": "65ba8bb9",
   "metadata": {},
   "outputs": [
    {
     "data": {
      "text/html": [
       "<div>\n",
       "<style scoped>\n",
       "    .dataframe tbody tr th:only-of-type {\n",
       "        vertical-align: middle;\n",
       "    }\n",
       "\n",
       "    .dataframe tbody tr th {\n",
       "        vertical-align: top;\n",
       "    }\n",
       "\n",
       "    .dataframe thead th {\n",
       "        text-align: right;\n",
       "    }\n",
       "</style>\n",
       "<table border=\"1\" class=\"dataframe\">\n",
       "  <thead>\n",
       "    <tr style=\"text-align: right;\">\n",
       "      <th></th>\n",
       "      <th>Year</th>\n",
       "      <th>Industry_aggregation_NZSIOC</th>\n",
       "      <th>Industry_code_NZSIOC</th>\n",
       "      <th>Industry_name_NZSIOC</th>\n",
       "      <th>Units</th>\n",
       "      <th>Variable_code</th>\n",
       "      <th>Variable_name</th>\n",
       "      <th>Variable_category</th>\n",
       "      <th>Value</th>\n",
       "      <th>Industry_code_ANZSIC06</th>\n",
       "    </tr>\n",
       "  </thead>\n",
       "  <tbody>\n",
       "    <tr>\n",
       "      <th>1900-01-30</th>\n",
       "      <td>2021</td>\n",
       "      <td>Level 1</td>\n",
       "      <td>99999</td>\n",
       "      <td>All industries</td>\n",
       "      <td>Dollars (millions)</td>\n",
       "      <td>H01</td>\n",
       "      <td>Total income</td>\n",
       "      <td>Financial performance</td>\n",
       "      <td>757,504</td>\n",
       "      <td>ANZSIC06 divisions A-S (excluding classes K633...</td>\n",
       "    </tr>\n",
       "    <tr>\n",
       "      <th>1900-01-31</th>\n",
       "      <td>2021</td>\n",
       "      <td>Level 1</td>\n",
       "      <td>99999</td>\n",
       "      <td>All industries</td>\n",
       "      <td>Dollars (millions)</td>\n",
       "      <td>H04</td>\n",
       "      <td>Sales, government funding, grants and subsidies</td>\n",
       "      <td>Financial performance</td>\n",
       "      <td>674,890</td>\n",
       "      <td>ANZSIC06 divisions A-S (excluding classes K633...</td>\n",
       "    </tr>\n",
       "    <tr>\n",
       "      <th>1900-02-01</th>\n",
       "      <td>2021</td>\n",
       "      <td>Level 1</td>\n",
       "      <td>99999</td>\n",
       "      <td>All industries</td>\n",
       "      <td>Dollars (millions)</td>\n",
       "      <td>H05</td>\n",
       "      <td>Interest, dividends and donations</td>\n",
       "      <td>Financial performance</td>\n",
       "      <td>49,593</td>\n",
       "      <td>ANZSIC06 divisions A-S (excluding classes K633...</td>\n",
       "    </tr>\n",
       "    <tr>\n",
       "      <th>1900-02-02</th>\n",
       "      <td>2021</td>\n",
       "      <td>Level 1</td>\n",
       "      <td>99999</td>\n",
       "      <td>All industries</td>\n",
       "      <td>Dollars (millions)</td>\n",
       "      <td>H07</td>\n",
       "      <td>Non-operating income</td>\n",
       "      <td>Financial performance</td>\n",
       "      <td>33,020</td>\n",
       "      <td>ANZSIC06 divisions A-S (excluding classes K633...</td>\n",
       "    </tr>\n",
       "    <tr>\n",
       "      <th>1900-02-03</th>\n",
       "      <td>2021</td>\n",
       "      <td>Level 1</td>\n",
       "      <td>99999</td>\n",
       "      <td>All industries</td>\n",
       "      <td>Dollars (millions)</td>\n",
       "      <td>H08</td>\n",
       "      <td>Total expenditure</td>\n",
       "      <td>Financial performance</td>\n",
       "      <td>654,404</td>\n",
       "      <td>ANZSIC06 divisions A-S (excluding classes K633...</td>\n",
       "    </tr>\n",
       "    <tr>\n",
       "      <th>1900-02-04</th>\n",
       "      <td>2021</td>\n",
       "      <td>Level 1</td>\n",
       "      <td>99999</td>\n",
       "      <td>All industries</td>\n",
       "      <td>Dollars (millions)</td>\n",
       "      <td>H09</td>\n",
       "      <td>Interest and donations</td>\n",
       "      <td>Financial performance</td>\n",
       "      <td>26,138</td>\n",
       "      <td>ANZSIC06 divisions A-S (excluding classes K633...</td>\n",
       "    </tr>\n",
       "    <tr>\n",
       "      <th>1900-02-05</th>\n",
       "      <td>2021</td>\n",
       "      <td>Level 1</td>\n",
       "      <td>99999</td>\n",
       "      <td>All industries</td>\n",
       "      <td>Dollars (millions)</td>\n",
       "      <td>H10</td>\n",
       "      <td>Indirect taxes</td>\n",
       "      <td>Financial performance</td>\n",
       "      <td>6,991</td>\n",
       "      <td>ANZSIC06 divisions A-S (excluding classes K633...</td>\n",
       "    </tr>\n",
       "    <tr>\n",
       "      <th>1900-02-06</th>\n",
       "      <td>2021</td>\n",
       "      <td>Level 1</td>\n",
       "      <td>99999</td>\n",
       "      <td>All industries</td>\n",
       "      <td>Dollars (millions)</td>\n",
       "      <td>H11</td>\n",
       "      <td>Depreciation</td>\n",
       "      <td>Financial performance</td>\n",
       "      <td>27,801</td>\n",
       "      <td>ANZSIC06 divisions A-S (excluding classes K633...</td>\n",
       "    </tr>\n",
       "    <tr>\n",
       "      <th>1900-02-07</th>\n",
       "      <td>2021</td>\n",
       "      <td>Level 1</td>\n",
       "      <td>99999</td>\n",
       "      <td>All industries</td>\n",
       "      <td>Dollars (millions)</td>\n",
       "      <td>H12</td>\n",
       "      <td>Salaries and wages paid</td>\n",
       "      <td>Financial performance</td>\n",
       "      <td>123,620</td>\n",
       "      <td>ANZSIC06 divisions A-S (excluding classes K633...</td>\n",
       "    </tr>\n",
       "    <tr>\n",
       "      <th>1900-02-08</th>\n",
       "      <td>2021</td>\n",
       "      <td>Level 1</td>\n",
       "      <td>99999</td>\n",
       "      <td>All industries</td>\n",
       "      <td>Dollars (millions)</td>\n",
       "      <td>H13</td>\n",
       "      <td>Redundancy and severance</td>\n",
       "      <td>Financial performance</td>\n",
       "      <td>275</td>\n",
       "      <td>ANZSIC06 divisions A-S (excluding classes K633...</td>\n",
       "    </tr>\n",
       "  </tbody>\n",
       "</table>\n",
       "</div>"
      ],
      "text/plain": [
       "            Year Industry_aggregation_NZSIOC  Industry_code_NZSIOC  \\\n",
       "1900-01-30  2021                     Level 1                 99999   \n",
       "1900-01-31  2021                     Level 1                 99999   \n",
       "1900-02-01  2021                     Level 1                 99999   \n",
       "1900-02-02  2021                     Level 1                 99999   \n",
       "1900-02-03  2021                     Level 1                 99999   \n",
       "1900-02-04  2021                     Level 1                 99999   \n",
       "1900-02-05  2021                     Level 1                 99999   \n",
       "1900-02-06  2021                     Level 1                 99999   \n",
       "1900-02-07  2021                     Level 1                 99999   \n",
       "1900-02-08  2021                     Level 1                 99999   \n",
       "\n",
       "           Industry_name_NZSIOC               Units Variable_code  \\\n",
       "1900-01-30       All industries  Dollars (millions)           H01   \n",
       "1900-01-31       All industries  Dollars (millions)           H04   \n",
       "1900-02-01       All industries  Dollars (millions)           H05   \n",
       "1900-02-02       All industries  Dollars (millions)           H07   \n",
       "1900-02-03       All industries  Dollars (millions)           H08   \n",
       "1900-02-04       All industries  Dollars (millions)           H09   \n",
       "1900-02-05       All industries  Dollars (millions)           H10   \n",
       "1900-02-06       All industries  Dollars (millions)           H11   \n",
       "1900-02-07       All industries  Dollars (millions)           H12   \n",
       "1900-02-08       All industries  Dollars (millions)           H13   \n",
       "\n",
       "                                              Variable_name  \\\n",
       "1900-01-30                                     Total income   \n",
       "1900-01-31  Sales, government funding, grants and subsidies   \n",
       "1900-02-01                Interest, dividends and donations   \n",
       "1900-02-02                             Non-operating income   \n",
       "1900-02-03                                Total expenditure   \n",
       "1900-02-04                           Interest and donations   \n",
       "1900-02-05                                   Indirect taxes   \n",
       "1900-02-06                                     Depreciation   \n",
       "1900-02-07                          Salaries and wages paid   \n",
       "1900-02-08                         Redundancy and severance   \n",
       "\n",
       "                Variable_category    Value  \\\n",
       "1900-01-30  Financial performance  757,504   \n",
       "1900-01-31  Financial performance  674,890   \n",
       "1900-02-01  Financial performance   49,593   \n",
       "1900-02-02  Financial performance   33,020   \n",
       "1900-02-03  Financial performance  654,404   \n",
       "1900-02-04  Financial performance   26,138   \n",
       "1900-02-05  Financial performance    6,991   \n",
       "1900-02-06  Financial performance   27,801   \n",
       "1900-02-07  Financial performance  123,620   \n",
       "1900-02-08  Financial performance      275   \n",
       "\n",
       "                                       Industry_code_ANZSIC06  \n",
       "1900-01-30  ANZSIC06 divisions A-S (excluding classes K633...  \n",
       "1900-01-31  ANZSIC06 divisions A-S (excluding classes K633...  \n",
       "1900-02-01  ANZSIC06 divisions A-S (excluding classes K633...  \n",
       "1900-02-02  ANZSIC06 divisions A-S (excluding classes K633...  \n",
       "1900-02-03  ANZSIC06 divisions A-S (excluding classes K633...  \n",
       "1900-02-04  ANZSIC06 divisions A-S (excluding classes K633...  \n",
       "1900-02-05  ANZSIC06 divisions A-S (excluding classes K633...  \n",
       "1900-02-06  ANZSIC06 divisions A-S (excluding classes K633...  \n",
       "1900-02-07  ANZSIC06 divisions A-S (excluding classes K633...  \n",
       "1900-02-08  ANZSIC06 divisions A-S (excluding classes K633...  "
      ]
     },
     "execution_count": 70,
     "metadata": {},
     "output_type": "execute_result"
    }
   ],
   "source": [
    "df.index = pd.date_range('1900/1/30', periods=df.shape[0]) # замена индексов\n",
    "df"
   ]
  },
  {
   "cell_type": "code",
   "execution_count": 71,
   "id": "f37ccd33",
   "metadata": {},
   "outputs": [
    {
     "data": {
      "text/plain": [
       "10"
      ]
     },
     "execution_count": 71,
     "metadata": {},
     "output_type": "execute_result"
    }
   ],
   "source": [
    "df[\"Variable_code\"].nunique() #сколько значений"
   ]
  },
  {
   "cell_type": "code",
   "execution_count": 72,
   "id": "ed92b61c",
   "metadata": {},
   "outputs": [
    {
     "data": {
      "text/plain": [
       "array(['H01', 'H04', 'H05', 'H07', 'H08', 'H09', 'H10', 'H11', 'H12',\n",
       "       'H13'], dtype=object)"
      ]
     },
     "execution_count": 72,
     "metadata": {},
     "output_type": "execute_result"
    }
   ],
   "source": [
    "df[\"Variable_code\"].unique() #уникальные значения"
   ]
  },
  {
   "cell_type": "code",
   "execution_count": 73,
   "id": "a8b1071c",
   "metadata": {},
   "outputs": [
    {
     "data": {
      "text/html": [
       "<div>\n",
       "<style scoped>\n",
       "    .dataframe tbody tr th:only-of-type {\n",
       "        vertical-align: middle;\n",
       "    }\n",
       "\n",
       "    .dataframe tbody tr th {\n",
       "        vertical-align: top;\n",
       "    }\n",
       "\n",
       "    .dataframe thead th {\n",
       "        text-align: right;\n",
       "    }\n",
       "</style>\n",
       "<table border=\"1\" class=\"dataframe\">\n",
       "  <thead>\n",
       "    <tr style=\"text-align: right;\">\n",
       "      <th></th>\n",
       "      <th>country</th>\n",
       "      <th>population</th>\n",
       "      <th>square</th>\n",
       "    </tr>\n",
       "  </thead>\n",
       "  <tbody>\n",
       "    <tr>\n",
       "      <th>KZ</th>\n",
       "      <td>Kazakhstan</td>\n",
       "      <td>17.04</td>\n",
       "      <td>2724902</td>\n",
       "    </tr>\n",
       "    <tr>\n",
       "      <th>RU</th>\n",
       "      <td>Russia</td>\n",
       "      <td>143.50</td>\n",
       "      <td>17125191</td>\n",
       "    </tr>\n",
       "    <tr>\n",
       "      <th>BY</th>\n",
       "      <td>Belarus</td>\n",
       "      <td>9.50</td>\n",
       "      <td>207600</td>\n",
       "    </tr>\n",
       "    <tr>\n",
       "      <th>UA</th>\n",
       "      <td>Ukrane</td>\n",
       "      <td>45.50</td>\n",
       "      <td>603628</td>\n",
       "    </tr>\n",
       "    <tr>\n",
       "      <th>KZ</th>\n",
       "      <td>Kazakhstan</td>\n",
       "      <td>232.12</td>\n",
       "      <td>35445</td>\n",
       "    </tr>\n",
       "  </tbody>\n",
       "</table>\n",
       "</div>"
      ],
      "text/plain": [
       "       country  population    square\n",
       "KZ  Kazakhstan       17.04   2724902\n",
       "RU      Russia      143.50  17125191\n",
       "BY     Belarus        9.50    207600\n",
       "UA      Ukrane       45.50    603628\n",
       "KZ  Kazakhstan      232.12     35445"
      ]
     },
     "execution_count": 73,
     "metadata": {},
     "output_type": "execute_result"
    }
   ],
   "source": [
    "df = pd.DataFrame({\n",
    "    'country': ['Kazakhstan', 'Russia', 'Belarus', 'Ukrane', 'Kazakhstan'],\n",
    "    'population': [17.04, 143.5, 9.5, 45.5, 232.12],\n",
    "    'square': [2724902, 17125191, 207600, 603628, 35445]\n",
    "}, index=['KZ', 'RU', 'BY', 'UA', 'KZ'])\n",
    "df"
   ]
  },
  {
   "cell_type": "code",
   "execution_count": 75,
   "id": "5134721c",
   "metadata": {},
   "outputs": [
    {
     "name": "stdout",
     "output_type": "stream",
     "text": [
      "4   ['Kazakhstan' 'Russia' 'Belarus' 'Ukrane']\n"
     ]
    }
   ],
   "source": [
    "print(df['country'].nunique(), ' ', df['country'].unique())"
   ]
  },
  {
   "cell_type": "code",
   "execution_count": 76,
   "id": "8e613520",
   "metadata": {},
   "outputs": [
    {
     "data": {
      "text/plain": [
       "Kazakhstan    2\n",
       "Russia        1\n",
       "Belarus       1\n",
       "Ukrane        1\n",
       "Name: country, dtype: int64"
      ]
     },
     "execution_count": 76,
     "metadata": {},
     "output_type": "execute_result"
    }
   ],
   "source": [
    "df['country'].value_counts()"
   ]
  },
  {
   "cell_type": "code",
   "execution_count": 78,
   "id": "87e7c3aa",
   "metadata": {},
   "outputs": [
    {
     "data": {
      "text/plain": [
       "KZ    KAZAKHSTAN\n",
       "RU        RUSSIA\n",
       "BY       BELARUS\n",
       "UA        UKRANE\n",
       "KZ    KAZAKHSTAN\n",
       "Name: country, dtype: object"
      ]
     },
     "execution_count": 78,
     "metadata": {},
     "output_type": "execute_result"
    }
   ],
   "source": [
    "df['country'].apply(lambda x: x.upper()) #применяем функцию для выбранных столбцов или всех"
   ]
  },
  {
   "cell_type": "code",
   "execution_count": 79,
   "id": "5c12f530",
   "metadata": {},
   "outputs": [
    {
     "data": {
      "text/plain": [
       "KZ    Kazakhstan\n",
       "RU        Russia\n",
       "BY       Belarus\n",
       "UA        Ukrane\n",
       "KZ    Kazakhstan\n",
       "Name: country, dtype: object"
      ]
     },
     "execution_count": 79,
     "metadata": {},
     "output_type": "execute_result"
    }
   ],
   "source": [
    "# ИНДЕКСАЦИЯ И ФИЛЬТРАЦИЯ\n",
    "\n",
    "df['country'] #df.country"
   ]
  },
  {
   "cell_type": "code",
   "execution_count": 80,
   "id": "6347a8c2",
   "metadata": {},
   "outputs": [
    {
     "data": {
      "text/html": [
       "<div>\n",
       "<style scoped>\n",
       "    .dataframe tbody tr th:only-of-type {\n",
       "        vertical-align: middle;\n",
       "    }\n",
       "\n",
       "    .dataframe tbody tr th {\n",
       "        vertical-align: top;\n",
       "    }\n",
       "\n",
       "    .dataframe thead th {\n",
       "        text-align: right;\n",
       "    }\n",
       "</style>\n",
       "<table border=\"1\" class=\"dataframe\">\n",
       "  <thead>\n",
       "    <tr style=\"text-align: right;\">\n",
       "      <th></th>\n",
       "      <th>country</th>\n",
       "      <th>square</th>\n",
       "    </tr>\n",
       "  </thead>\n",
       "  <tbody>\n",
       "    <tr>\n",
       "      <th>KZ</th>\n",
       "      <td>Kazakhstan</td>\n",
       "      <td>2724902</td>\n",
       "    </tr>\n",
       "    <tr>\n",
       "      <th>RU</th>\n",
       "      <td>Russia</td>\n",
       "      <td>17125191</td>\n",
       "    </tr>\n",
       "    <tr>\n",
       "      <th>BY</th>\n",
       "      <td>Belarus</td>\n",
       "      <td>207600</td>\n",
       "    </tr>\n",
       "    <tr>\n",
       "      <th>UA</th>\n",
       "      <td>Ukrane</td>\n",
       "      <td>603628</td>\n",
       "    </tr>\n",
       "    <tr>\n",
       "      <th>KZ</th>\n",
       "      <td>Kazakhstan</td>\n",
       "      <td>35445</td>\n",
       "    </tr>\n",
       "  </tbody>\n",
       "</table>\n",
       "</div>"
      ],
      "text/plain": [
       "       country    square\n",
       "KZ  Kazakhstan   2724902\n",
       "RU      Russia  17125191\n",
       "BY     Belarus    207600\n",
       "UA      Ukrane    603628\n",
       "KZ  Kazakhstan     35445"
      ]
     },
     "execution_count": 80,
     "metadata": {},
     "output_type": "execute_result"
    }
   ],
   "source": [
    "df[['country', 'square']]"
   ]
  },
  {
   "cell_type": "code",
   "execution_count": 81,
   "id": "bb0cbf58",
   "metadata": {},
   "outputs": [
    {
     "data": {
      "text/html": [
       "<div>\n",
       "<style scoped>\n",
       "    .dataframe tbody tr th:only-of-type {\n",
       "        vertical-align: middle;\n",
       "    }\n",
       "\n",
       "    .dataframe tbody tr th {\n",
       "        vertical-align: top;\n",
       "    }\n",
       "\n",
       "    .dataframe thead th {\n",
       "        text-align: right;\n",
       "    }\n",
       "</style>\n",
       "<table border=\"1\" class=\"dataframe\">\n",
       "  <thead>\n",
       "    <tr style=\"text-align: right;\">\n",
       "      <th></th>\n",
       "      <th>country</th>\n",
       "      <th>population</th>\n",
       "      <th>square</th>\n",
       "    </tr>\n",
       "  </thead>\n",
       "  <tbody>\n",
       "    <tr>\n",
       "      <th>KZ</th>\n",
       "      <td>Kazakhstan</td>\n",
       "      <td>17.04</td>\n",
       "      <td>2724902</td>\n",
       "    </tr>\n",
       "    <tr>\n",
       "      <th>KZ</th>\n",
       "      <td>Kazakhstan</td>\n",
       "      <td>232.12</td>\n",
       "      <td>35445</td>\n",
       "    </tr>\n",
       "  </tbody>\n",
       "</table>\n",
       "</div>"
      ],
      "text/plain": [
       "       country  population   square\n",
       "KZ  Kazakhstan       17.04  2724902\n",
       "KZ  Kazakhstan      232.12    35445"
      ]
     },
     "execution_count": 81,
     "metadata": {},
     "output_type": "execute_result"
    }
   ],
   "source": [
    "df.loc['KZ'] # at"
   ]
  },
  {
   "cell_type": "code",
   "execution_count": 84,
   "id": "f59a2040",
   "metadata": {},
   "outputs": [
    {
     "data": {
      "text/html": [
       "<div>\n",
       "<style scoped>\n",
       "    .dataframe tbody tr th:only-of-type {\n",
       "        vertical-align: middle;\n",
       "    }\n",
       "\n",
       "    .dataframe tbody tr th {\n",
       "        vertical-align: top;\n",
       "    }\n",
       "\n",
       "    .dataframe thead th {\n",
       "        text-align: right;\n",
       "    }\n",
       "</style>\n",
       "<table border=\"1\" class=\"dataframe\">\n",
       "  <thead>\n",
       "    <tr style=\"text-align: right;\">\n",
       "      <th></th>\n",
       "      <th>square</th>\n",
       "    </tr>\n",
       "  </thead>\n",
       "  <tbody>\n",
       "    <tr>\n",
       "      <th>KZ</th>\n",
       "      <td>2724902</td>\n",
       "    </tr>\n",
       "    <tr>\n",
       "      <th>KZ</th>\n",
       "      <td>35445</td>\n",
       "    </tr>\n",
       "  </tbody>\n",
       "</table>\n",
       "</div>"
      ],
      "text/plain": [
       "     square\n",
       "KZ  2724902\n",
       "KZ    35445"
      ]
     },
     "execution_count": 84,
     "metadata": {},
     "output_type": "execute_result"
    }
   ],
   "source": [
    "df.loc[['KZ'], ['square']]"
   ]
  },
  {
   "cell_type": "code",
   "execution_count": 85,
   "id": "5bd6e79f",
   "metadata": {},
   "outputs": [
    {
     "data": {
      "text/plain": [
       "country         Russia\n",
       "population       143.5\n",
       "square        17125191\n",
       "Name: RU, dtype: object"
      ]
     },
     "execution_count": 85,
     "metadata": {},
     "output_type": "execute_result"
    }
   ],
   "source": [
    "df.iloc[1]"
   ]
  },
  {
   "cell_type": "code",
   "execution_count": 86,
   "id": "28c708d3",
   "metadata": {},
   "outputs": [
    {
     "data": {
      "text/plain": [
       "143.5"
      ]
     },
     "execution_count": 86,
     "metadata": {},
     "output_type": "execute_result"
    }
   ],
   "source": [
    "df.iloc[1, 1]"
   ]
  },
  {
   "cell_type": "code",
   "execution_count": 87,
   "id": "a9740a28",
   "metadata": {},
   "outputs": [
    {
     "data": {
      "text/plain": [
       "population       143.5\n",
       "square        17125191\n",
       "Name: RU, dtype: object"
      ]
     },
     "execution_count": 87,
     "metadata": {},
     "output_type": "execute_result"
    }
   ],
   "source": [
    "df.iloc[1, 1:3]"
   ]
  },
  {
   "cell_type": "code",
   "execution_count": 88,
   "id": "b30eb4b6",
   "metadata": {},
   "outputs": [
    {
     "data": {
      "text/html": [
       "<div>\n",
       "<style scoped>\n",
       "    .dataframe tbody tr th:only-of-type {\n",
       "        vertical-align: middle;\n",
       "    }\n",
       "\n",
       "    .dataframe tbody tr th {\n",
       "        vertical-align: top;\n",
       "    }\n",
       "\n",
       "    .dataframe thead th {\n",
       "        text-align: right;\n",
       "    }\n",
       "</style>\n",
       "<table border=\"1\" class=\"dataframe\">\n",
       "  <thead>\n",
       "    <tr style=\"text-align: right;\">\n",
       "      <th></th>\n",
       "      <th>population</th>\n",
       "      <th>square</th>\n",
       "    </tr>\n",
       "  </thead>\n",
       "  <tbody>\n",
       "    <tr>\n",
       "      <th>RU</th>\n",
       "      <td>143.5</td>\n",
       "      <td>17125191</td>\n",
       "    </tr>\n",
       "    <tr>\n",
       "      <th>BY</th>\n",
       "      <td>9.5</td>\n",
       "      <td>207600</td>\n",
       "    </tr>\n",
       "  </tbody>\n",
       "</table>\n",
       "</div>"
      ],
      "text/plain": [
       "    population    square\n",
       "RU       143.5  17125191\n",
       "BY         9.5    207600"
      ]
     },
     "execution_count": 88,
     "metadata": {},
     "output_type": "execute_result"
    }
   ],
   "source": [
    "df.iloc[1:3, 1:3]"
   ]
  },
  {
   "cell_type": "code",
   "execution_count": 89,
   "id": "3ab41d76",
   "metadata": {},
   "outputs": [
    {
     "data": {
      "text/plain": [
       "KZ     2724902\n",
       "KZ       35445\n",
       "RU    17125191\n",
       "Name: square, dtype: int64"
      ]
     },
     "execution_count": 89,
     "metadata": {},
     "output_type": "execute_result"
    }
   ],
   "source": [
    "df.loc[['KZ', 'RU'], 'square']"
   ]
  },
  {
   "cell_type": "code",
   "execution_count": 90,
   "id": "fbfbba45",
   "metadata": {},
   "outputs": [
    {
     "data": {
      "text/html": [
       "<div>\n",
       "<style scoped>\n",
       "    .dataframe tbody tr th:only-of-type {\n",
       "        vertical-align: middle;\n",
       "    }\n",
       "\n",
       "    .dataframe tbody tr th {\n",
       "        vertical-align: top;\n",
       "    }\n",
       "\n",
       "    .dataframe thead th {\n",
       "        text-align: right;\n",
       "    }\n",
       "</style>\n",
       "<table border=\"1\" class=\"dataframe\">\n",
       "  <thead>\n",
       "    <tr style=\"text-align: right;\">\n",
       "      <th></th>\n",
       "      <th>country</th>\n",
       "      <th>population</th>\n",
       "      <th>square</th>\n",
       "    </tr>\n",
       "  </thead>\n",
       "  <tbody>\n",
       "    <tr>\n",
       "      <th>RU</th>\n",
       "      <td>Russia</td>\n",
       "      <td>143.5</td>\n",
       "      <td>17125191</td>\n",
       "    </tr>\n",
       "    <tr>\n",
       "      <th>BY</th>\n",
       "      <td>Belarus</td>\n",
       "      <td>9.5</td>\n",
       "      <td>207600</td>\n",
       "    </tr>\n",
       "    <tr>\n",
       "      <th>UA</th>\n",
       "      <td>Ukrane</td>\n",
       "      <td>45.5</td>\n",
       "      <td>603628</td>\n",
       "    </tr>\n",
       "  </tbody>\n",
       "</table>\n",
       "</div>"
      ],
      "text/plain": [
       "    country  population    square\n",
       "RU   Russia       143.5  17125191\n",
       "BY  Belarus         9.5    207600\n",
       "UA   Ukrane        45.5    603628"
      ]
     },
     "execution_count": 90,
     "metadata": {},
     "output_type": "execute_result"
    }
   ],
   "source": [
    "df.loc['RU':'UA', :]"
   ]
  },
  {
   "cell_type": "code",
   "execution_count": 91,
   "id": "de6620a9",
   "metadata": {},
   "outputs": [
    {
     "name": "stdout",
     "output_type": "stream",
     "text": [
      "       country  population    square\n",
      "RU      Russia      143.50  17125191\n",
      "UA      Ukrane       45.50    603628\n",
      "KZ  Kazakhstan      232.12     35445\n"
     ]
    }
   ],
   "source": [
    "print(df[df.population > 30],)"
   ]
  },
  {
   "cell_type": "code",
   "execution_count": 92,
   "id": "996420da",
   "metadata": {},
   "outputs": [
    {
     "name": "stdout",
     "output_type": "stream",
     "text": [
      "       country    square\n",
      "RU      Russia  17125191\n",
      "UA      Ukrane    603628\n",
      "KZ  Kazakhstan     35445\n"
     ]
    }
   ],
   "source": [
    "print(df[df.population > 30][['country', 'square']])"
   ]
  },
  {
   "cell_type": "code",
   "execution_count": 95,
   "id": "cc8b64ba",
   "metadata": {},
   "outputs": [
    {
     "data": {
      "text/html": [
       "<div>\n",
       "<style scoped>\n",
       "    .dataframe tbody tr th:only-of-type {\n",
       "        vertical-align: middle;\n",
       "    }\n",
       "\n",
       "    .dataframe tbody tr th {\n",
       "        vertical-align: top;\n",
       "    }\n",
       "\n",
       "    .dataframe thead th {\n",
       "        text-align: right;\n",
       "    }\n",
       "</style>\n",
       "<table border=\"1\" class=\"dataframe\">\n",
       "  <thead>\n",
       "    <tr style=\"text-align: right;\">\n",
       "      <th></th>\n",
       "      <th>country</th>\n",
       "      <th>population</th>\n",
       "      <th>square</th>\n",
       "      <th>Density</th>\n",
       "    </tr>\n",
       "  </thead>\n",
       "  <tbody>\n",
       "    <tr>\n",
       "      <th>KZ</th>\n",
       "      <td>Kazakhstan</td>\n",
       "      <td>17.04</td>\n",
       "      <td>2724902</td>\n",
       "      <td>6.253436</td>\n",
       "    </tr>\n",
       "    <tr>\n",
       "      <th>RU</th>\n",
       "      <td>Russia</td>\n",
       "      <td>143.50</td>\n",
       "      <td>17125191</td>\n",
       "      <td>8.379469</td>\n",
       "    </tr>\n",
       "    <tr>\n",
       "      <th>BY</th>\n",
       "      <td>Belarus</td>\n",
       "      <td>9.50</td>\n",
       "      <td>207600</td>\n",
       "      <td>45.761079</td>\n",
       "    </tr>\n",
       "    <tr>\n",
       "      <th>UA</th>\n",
       "      <td>Ukrane</td>\n",
       "      <td>45.50</td>\n",
       "      <td>603628</td>\n",
       "      <td>75.377550</td>\n",
       "    </tr>\n",
       "    <tr>\n",
       "      <th>KZ</th>\n",
       "      <td>Kazakhstan</td>\n",
       "      <td>232.12</td>\n",
       "      <td>35445</td>\n",
       "      <td>6548.737481</td>\n",
       "    </tr>\n",
       "  </tbody>\n",
       "</table>\n",
       "</div>"
      ],
      "text/plain": [
       "       country  population    square      Density\n",
       "KZ  Kazakhstan       17.04   2724902     6.253436\n",
       "RU      Russia      143.50  17125191     8.379469\n",
       "BY     Belarus        9.50    207600    45.761079\n",
       "UA      Ukrane       45.50    603628    75.377550\n",
       "KZ  Kazakhstan      232.12     35445  6548.737481"
      ]
     },
     "execution_count": 95,
     "metadata": {},
     "output_type": "execute_result"
    }
   ],
   "source": [
    "df['Density'] = df['population'] / df['square'] * 1000000\n",
    "df"
   ]
  },
  {
   "cell_type": "code",
   "execution_count": 96,
   "id": "f1169b09",
   "metadata": {},
   "outputs": [
    {
     "name": "stdout",
     "output_type": "stream",
     "text": [
      "country       KazakhstanRussiaBelarusUkraneKazakhstan\n",
      "population                                     447.66\n",
      "square                                       20696766\n",
      "Density                                   6684.509015\n",
      "dtype: object\n"
     ]
    }
   ],
   "source": [
    "print(df.sum())"
   ]
  },
  {
   "cell_type": "code",
   "execution_count": 97,
   "id": "6d1f1b53",
   "metadata": {},
   "outputs": [
    {
     "name": "stdout",
     "output_type": "stream",
     "text": [
      "population    8.953200e+01\n",
      "square        4.139353e+06\n",
      "Density       1.336902e+03\n",
      "dtype: float64\n"
     ]
    },
    {
     "name": "stderr",
     "output_type": "stream",
     "text": [
      "C:\\Users\\skyri\\AppData\\Local\\Temp\\ipykernel_11568\\2807316344.py:1: FutureWarning: The default value of numeric_only in DataFrame.mean is deprecated. In a future version, it will default to False. In addition, specifying 'numeric_only=None' is deprecated. Select only valid columns or specify the value of numeric_only to silence this warning.\n",
      "  print(df.mean())\n"
     ]
    }
   ],
   "source": [
    "print(df.mean())"
   ]
  },
  {
   "cell_type": "code",
   "execution_count": 98,
   "id": "4d956694",
   "metadata": {},
   "outputs": [
    {
     "name": "stdout",
     "output_type": "stream",
     "text": [
      "country            Ukrane\n",
      "population         232.12\n",
      "square           17125191\n",
      "Density       6548.737481\n",
      "dtype: object\n"
     ]
    }
   ],
   "source": [
    "print(df.max())"
   ]
  },
  {
   "cell_type": "code",
   "execution_count": 101,
   "id": "37b4934e",
   "metadata": {},
   "outputs": [
    {
     "data": {
      "text/html": [
       "<div>\n",
       "<style scoped>\n",
       "    .dataframe tbody tr th:only-of-type {\n",
       "        vertical-align: middle;\n",
       "    }\n",
       "\n",
       "    .dataframe tbody tr th {\n",
       "        vertical-align: top;\n",
       "    }\n",
       "\n",
       "    .dataframe thead th {\n",
       "        text-align: right;\n",
       "    }\n",
       "</style>\n",
       "<table border=\"1\" class=\"dataframe\">\n",
       "  <thead>\n",
       "    <tr style=\"text-align: right;\">\n",
       "      <th></th>\n",
       "      <th>country</th>\n",
       "      <th>population</th>\n",
       "      <th>square</th>\n",
       "      <th>Density</th>\n",
       "    </tr>\n",
       "  </thead>\n",
       "  <tbody>\n",
       "    <tr>\n",
       "      <th>KZ</th>\n",
       "      <td>Kazakhstan</td>\n",
       "      <td>17.04</td>\n",
       "      <td>2724902</td>\n",
       "      <td>6.253436</td>\n",
       "    </tr>\n",
       "    <tr>\n",
       "      <th>RU</th>\n",
       "      <td>Russia</td>\n",
       "      <td>143.50</td>\n",
       "      <td>17125191</td>\n",
       "      <td>8.379469</td>\n",
       "    </tr>\n",
       "    <tr>\n",
       "      <th>BY</th>\n",
       "      <td>Belarus</td>\n",
       "      <td>9.50</td>\n",
       "      <td>207600</td>\n",
       "      <td>45.761079</td>\n",
       "    </tr>\n",
       "    <tr>\n",
       "      <th>UA</th>\n",
       "      <td>Ukrane</td>\n",
       "      <td>45.50</td>\n",
       "      <td>603628</td>\n",
       "      <td>75.377550</td>\n",
       "    </tr>\n",
       "    <tr>\n",
       "      <th>KZ</th>\n",
       "      <td>Kazakhstan</td>\n",
       "      <td>232.12</td>\n",
       "      <td>35445</td>\n",
       "      <td>6548.737481</td>\n",
       "    </tr>\n",
       "  </tbody>\n",
       "</table>\n",
       "</div>"
      ],
      "text/plain": [
       "       country  population    square      Density\n",
       "KZ  Kazakhstan       17.04   2724902     6.253436\n",
       "RU      Russia      143.50  17125191     8.379469\n",
       "BY     Belarus        9.50    207600    45.761079\n",
       "UA      Ukrane       45.50    603628    75.377550\n",
       "KZ  Kazakhstan      232.12     35445  6548.737481"
      ]
     },
     "execution_count": 101,
     "metadata": {},
     "output_type": "execute_result"
    }
   ],
   "source": [
    "df['square'].mean()\n",
    "df"
   ]
  },
  {
   "cell_type": "code",
   "execution_count": 100,
   "id": "c9fca308",
   "metadata": {},
   "outputs": [
    {
     "data": {
      "text/html": [
       "<div>\n",
       "<style scoped>\n",
       "    .dataframe tbody tr th:only-of-type {\n",
       "        vertical-align: middle;\n",
       "    }\n",
       "\n",
       "    .dataframe tbody tr th {\n",
       "        vertical-align: top;\n",
       "    }\n",
       "\n",
       "    .dataframe thead th {\n",
       "        text-align: right;\n",
       "    }\n",
       "</style>\n",
       "<table border=\"1\" class=\"dataframe\">\n",
       "  <thead>\n",
       "    <tr style=\"text-align: right;\">\n",
       "      <th></th>\n",
       "      <th>country</th>\n",
       "      <th>population</th>\n",
       "      <th>Density</th>\n",
       "    </tr>\n",
       "  </thead>\n",
       "  <tbody>\n",
       "    <tr>\n",
       "      <th>KZ</th>\n",
       "      <td>Kazakhstan</td>\n",
       "      <td>17.04</td>\n",
       "      <td>6.253436</td>\n",
       "    </tr>\n",
       "    <tr>\n",
       "      <th>RU</th>\n",
       "      <td>Russia</td>\n",
       "      <td>143.50</td>\n",
       "      <td>8.379469</td>\n",
       "    </tr>\n",
       "    <tr>\n",
       "      <th>BY</th>\n",
       "      <td>Belarus</td>\n",
       "      <td>9.50</td>\n",
       "      <td>45.761079</td>\n",
       "    </tr>\n",
       "    <tr>\n",
       "      <th>UA</th>\n",
       "      <td>Ukrane</td>\n",
       "      <td>45.50</td>\n",
       "      <td>75.377550</td>\n",
       "    </tr>\n",
       "    <tr>\n",
       "      <th>KZ</th>\n",
       "      <td>Kazakhstan</td>\n",
       "      <td>232.12</td>\n",
       "      <td>6548.737481</td>\n",
       "    </tr>\n",
       "  </tbody>\n",
       "</table>\n",
       "</div>"
      ],
      "text/plain": [
       "       country  population      Density\n",
       "KZ  Kazakhstan       17.04     6.253436\n",
       "RU      Russia      143.50     8.379469\n",
       "BY     Belarus        9.50    45.761079\n",
       "UA      Ukrane       45.50    75.377550\n",
       "KZ  Kazakhstan      232.12  6548.737481"
      ]
     },
     "execution_count": 100,
     "metadata": {},
     "output_type": "execute_result"
    }
   ],
   "source": [
    "df.drop(['square'], axis=1)"
   ]
  },
  {
   "cell_type": "code",
   "execution_count": 103,
   "id": "09fcf3fb",
   "metadata": {},
   "outputs": [
    {
     "data": {
      "text/html": [
       "<div>\n",
       "<style scoped>\n",
       "    .dataframe tbody tr th:only-of-type {\n",
       "        vertical-align: middle;\n",
       "    }\n",
       "\n",
       "    .dataframe tbody tr th {\n",
       "        vertical-align: top;\n",
       "    }\n",
       "\n",
       "    .dataframe thead th {\n",
       "        text-align: right;\n",
       "    }\n",
       "</style>\n",
       "<table border=\"1\" class=\"dataframe\">\n",
       "  <thead>\n",
       "    <tr style=\"text-align: right;\">\n",
       "      <th></th>\n",
       "      <th>country</th>\n",
       "      <th>population</th>\n",
       "      <th>square</th>\n",
       "      <th>Density</th>\n",
       "    </tr>\n",
       "  </thead>\n",
       "  <tbody>\n",
       "    <tr>\n",
       "      <th>BY</th>\n",
       "      <td>False</td>\n",
       "      <td>False</td>\n",
       "      <td>False</td>\n",
       "      <td>False</td>\n",
       "    </tr>\n",
       "    <tr>\n",
       "      <th>UA</th>\n",
       "      <td>False</td>\n",
       "      <td>False</td>\n",
       "      <td>False</td>\n",
       "      <td>False</td>\n",
       "    </tr>\n",
       "    <tr>\n",
       "      <th>KZ</th>\n",
       "      <td>False</td>\n",
       "      <td>False</td>\n",
       "      <td>False</td>\n",
       "      <td>False</td>\n",
       "    </tr>\n",
       "  </tbody>\n",
       "</table>\n",
       "</div>"
      ],
      "text/plain": [
       "    country  population  square  Density\n",
       "BY    False       False   False    False\n",
       "UA    False       False   False    False\n",
       "KZ    False       False   False    False"
      ]
     },
     "execution_count": 103,
     "metadata": {},
     "output_type": "execute_result"
    }
   ],
   "source": [
    "# ОБРАБОТКА ПУСТЫХ ЗНАЧЕНИЙ\n",
    "df.isnull()[2:] # для определения NaN значений"
   ]
  },
  {
   "cell_type": "code",
   "execution_count": 104,
   "id": "94829f29",
   "metadata": {},
   "outputs": [
    {
     "data": {
      "text/html": [
       "<div>\n",
       "<style scoped>\n",
       "    .dataframe tbody tr th:only-of-type {\n",
       "        vertical-align: middle;\n",
       "    }\n",
       "\n",
       "    .dataframe tbody tr th {\n",
       "        vertical-align: top;\n",
       "    }\n",
       "\n",
       "    .dataframe thead th {\n",
       "        text-align: right;\n",
       "    }\n",
       "</style>\n",
       "<table border=\"1\" class=\"dataframe\">\n",
       "  <thead>\n",
       "    <tr style=\"text-align: right;\">\n",
       "      <th></th>\n",
       "      <th>country</th>\n",
       "      <th>population</th>\n",
       "      <th>square</th>\n",
       "      <th>Density</th>\n",
       "    </tr>\n",
       "  </thead>\n",
       "  <tbody>\n",
       "    <tr>\n",
       "      <th>KZ</th>\n",
       "      <td>Kazakhstan</td>\n",
       "      <td>17.04</td>\n",
       "      <td>2724902</td>\n",
       "      <td>6.253436</td>\n",
       "    </tr>\n",
       "    <tr>\n",
       "      <th>RU</th>\n",
       "      <td>Russia</td>\n",
       "      <td>143.50</td>\n",
       "      <td>17125191</td>\n",
       "      <td>8.379469</td>\n",
       "    </tr>\n",
       "    <tr>\n",
       "      <th>BY</th>\n",
       "      <td>Belarus</td>\n",
       "      <td>9.50</td>\n",
       "      <td>207600</td>\n",
       "      <td>45.761079</td>\n",
       "    </tr>\n",
       "    <tr>\n",
       "      <th>UA</th>\n",
       "      <td>Ukrane</td>\n",
       "      <td>45.50</td>\n",
       "      <td>603628</td>\n",
       "      <td>75.377550</td>\n",
       "    </tr>\n",
       "    <tr>\n",
       "      <th>KZ</th>\n",
       "      <td>Kazakhstan</td>\n",
       "      <td>232.12</td>\n",
       "      <td>35445</td>\n",
       "      <td>6548.737481</td>\n",
       "    </tr>\n",
       "  </tbody>\n",
       "</table>\n",
       "</div>"
      ],
      "text/plain": [
       "       country  population    square      Density\n",
       "KZ  Kazakhstan       17.04   2724902     6.253436\n",
       "RU      Russia      143.50  17125191     8.379469\n",
       "BY     Belarus        9.50    207600    45.761079\n",
       "UA      Ukrane       45.50    603628    75.377550\n",
       "KZ  Kazakhstan      232.12     35445  6548.737481"
      ]
     },
     "execution_count": 104,
     "metadata": {},
     "output_type": "execute_result"
    }
   ],
   "source": [
    "df\n"
   ]
  },
  {
   "cell_type": "code",
   "execution_count": 106,
   "id": "400532ad",
   "metadata": {},
   "outputs": [
    {
     "data": {
      "text/plain": [
       "country         Ukrane\n",
       "population        45.5\n",
       "square          603628\n",
       "Density       75.37755\n",
       "Name: UA, dtype: object"
      ]
     },
     "execution_count": 106,
     "metadata": {},
     "output_type": "execute_result"
    }
   ],
   "source": [
    "df.iloc[3]"
   ]
  },
  {
   "cell_type": "code",
   "execution_count": 107,
   "id": "cc7c6c74",
   "metadata": {},
   "outputs": [
    {
     "data": {
      "text/plain": [
       "5"
      ]
     },
     "execution_count": 107,
     "metadata": {},
     "output_type": "execute_result"
    }
   ],
   "source": [
    "len(df)"
   ]
  },
  {
   "cell_type": "code",
   "execution_count": 108,
   "id": "33c31a12",
   "metadata": {},
   "outputs": [],
   "source": [
    "df2 = df.dropna() #axis = 1 выкидываем все столбцы с null values, axis=0 - строки"
   ]
  },
  {
   "cell_type": "code",
   "execution_count": 109,
   "id": "dd8db2ce",
   "metadata": {},
   "outputs": [
    {
     "data": {
      "text/html": [
       "<div>\n",
       "<style scoped>\n",
       "    .dataframe tbody tr th:only-of-type {\n",
       "        vertical-align: middle;\n",
       "    }\n",
       "\n",
       "    .dataframe tbody tr th {\n",
       "        vertical-align: top;\n",
       "    }\n",
       "\n",
       "    .dataframe thead th {\n",
       "        text-align: right;\n",
       "    }\n",
       "</style>\n",
       "<table border=\"1\" class=\"dataframe\">\n",
       "  <thead>\n",
       "    <tr style=\"text-align: right;\">\n",
       "      <th></th>\n",
       "      <th>country</th>\n",
       "      <th>population</th>\n",
       "      <th>square</th>\n",
       "      <th>Density</th>\n",
       "    </tr>\n",
       "  </thead>\n",
       "  <tbody>\n",
       "    <tr>\n",
       "      <th>KZ</th>\n",
       "      <td>Kazakhstan</td>\n",
       "      <td>17.04</td>\n",
       "      <td>2724902</td>\n",
       "      <td>6.253436</td>\n",
       "    </tr>\n",
       "    <tr>\n",
       "      <th>RU</th>\n",
       "      <td>Russia</td>\n",
       "      <td>143.50</td>\n",
       "      <td>17125191</td>\n",
       "      <td>8.379469</td>\n",
       "    </tr>\n",
       "    <tr>\n",
       "      <th>BY</th>\n",
       "      <td>Belarus</td>\n",
       "      <td>9.50</td>\n",
       "      <td>207600</td>\n",
       "      <td>45.761079</td>\n",
       "    </tr>\n",
       "    <tr>\n",
       "      <th>UA</th>\n",
       "      <td>Ukrane</td>\n",
       "      <td>45.50</td>\n",
       "      <td>603628</td>\n",
       "      <td>75.377550</td>\n",
       "    </tr>\n",
       "    <tr>\n",
       "      <th>KZ</th>\n",
       "      <td>Kazakhstan</td>\n",
       "      <td>232.12</td>\n",
       "      <td>35445</td>\n",
       "      <td>6548.737481</td>\n",
       "    </tr>\n",
       "  </tbody>\n",
       "</table>\n",
       "</div>"
      ],
      "text/plain": [
       "       country  population    square      Density\n",
       "KZ  Kazakhstan       17.04   2724902     6.253436\n",
       "RU      Russia      143.50  17125191     8.379469\n",
       "BY     Belarus        9.50    207600    45.761079\n",
       "UA      Ukrane       45.50    603628    75.377550\n",
       "KZ  Kazakhstan      232.12     35445  6548.737481"
      ]
     },
     "execution_count": 109,
     "metadata": {},
     "output_type": "execute_result"
    }
   ],
   "source": [
    "df"
   ]
  },
  {
   "cell_type": "code",
   "execution_count": 110,
   "id": "be3d6c2e",
   "metadata": {},
   "outputs": [
    {
     "data": {
      "text/html": [
       "<div>\n",
       "<style scoped>\n",
       "    .dataframe tbody tr th:only-of-type {\n",
       "        vertical-align: middle;\n",
       "    }\n",
       "\n",
       "    .dataframe tbody tr th {\n",
       "        vertical-align: top;\n",
       "    }\n",
       "\n",
       "    .dataframe thead th {\n",
       "        text-align: right;\n",
       "    }\n",
       "</style>\n",
       "<table border=\"1\" class=\"dataframe\">\n",
       "  <thead>\n",
       "    <tr style=\"text-align: right;\">\n",
       "      <th></th>\n",
       "      <th>country</th>\n",
       "      <th>population</th>\n",
       "      <th>square</th>\n",
       "      <th>Density</th>\n",
       "    </tr>\n",
       "  </thead>\n",
       "  <tbody>\n",
       "    <tr>\n",
       "      <th>KZ</th>\n",
       "      <td>Kazakhstan</td>\n",
       "      <td>17.04</td>\n",
       "      <td>2724902</td>\n",
       "      <td>6.253436</td>\n",
       "    </tr>\n",
       "    <tr>\n",
       "      <th>RU</th>\n",
       "      <td>Russia</td>\n",
       "      <td>143.50</td>\n",
       "      <td>17125191</td>\n",
       "      <td>8.379469</td>\n",
       "    </tr>\n",
       "    <tr>\n",
       "      <th>BY</th>\n",
       "      <td>Belarus</td>\n",
       "      <td>9.50</td>\n",
       "      <td>207600</td>\n",
       "      <td>45.761079</td>\n",
       "    </tr>\n",
       "    <tr>\n",
       "      <th>UA</th>\n",
       "      <td>Ukrane</td>\n",
       "      <td>45.50</td>\n",
       "      <td>603628</td>\n",
       "      <td>75.377550</td>\n",
       "    </tr>\n",
       "    <tr>\n",
       "      <th>KZ</th>\n",
       "      <td>Kazakhstan</td>\n",
       "      <td>232.12</td>\n",
       "      <td>35445</td>\n",
       "      <td>6548.737481</td>\n",
       "    </tr>\n",
       "  </tbody>\n",
       "</table>\n",
       "</div>"
      ],
      "text/plain": [
       "       country  population    square      Density\n",
       "KZ  Kazakhstan       17.04   2724902     6.253436\n",
       "RU      Russia      143.50  17125191     8.379469\n",
       "BY     Belarus        9.50    207600    45.761079\n",
       "UA      Ukrane       45.50    603628    75.377550\n",
       "KZ  Kazakhstan      232.12     35445  6548.737481"
      ]
     },
     "execution_count": 110,
     "metadata": {},
     "output_type": "execute_result"
    }
   ],
   "source": [
    "df2"
   ]
  },
  {
   "cell_type": "code",
   "execution_count": 112,
   "id": "2ff1aaf5",
   "metadata": {},
   "outputs": [],
   "source": [
    "df = df.fillna(df['square'].mean()) # заполнение пропущенных значений"
   ]
  },
  {
   "cell_type": "code",
   "execution_count": 113,
   "id": "c74e8a04",
   "metadata": {},
   "outputs": [
    {
     "data": {
      "text/html": [
       "<div>\n",
       "<style scoped>\n",
       "    .dataframe tbody tr th:only-of-type {\n",
       "        vertical-align: middle;\n",
       "    }\n",
       "\n",
       "    .dataframe tbody tr th {\n",
       "        vertical-align: top;\n",
       "    }\n",
       "\n",
       "    .dataframe thead th {\n",
       "        text-align: right;\n",
       "    }\n",
       "</style>\n",
       "<table border=\"1\" class=\"dataframe\">\n",
       "  <thead>\n",
       "    <tr style=\"text-align: right;\">\n",
       "      <th></th>\n",
       "      <th>country</th>\n",
       "      <th>population</th>\n",
       "      <th>square</th>\n",
       "      <th>Density</th>\n",
       "    </tr>\n",
       "  </thead>\n",
       "  <tbody>\n",
       "    <tr>\n",
       "      <th>KZ</th>\n",
       "      <td>Kazakhstan</td>\n",
       "      <td>17.04</td>\n",
       "      <td>2724902</td>\n",
       "      <td>6.253436</td>\n",
       "    </tr>\n",
       "    <tr>\n",
       "      <th>RU</th>\n",
       "      <td>Russia</td>\n",
       "      <td>143.50</td>\n",
       "      <td>17125191</td>\n",
       "      <td>8.379469</td>\n",
       "    </tr>\n",
       "    <tr>\n",
       "      <th>BY</th>\n",
       "      <td>Belarus</td>\n",
       "      <td>9.50</td>\n",
       "      <td>207600</td>\n",
       "      <td>45.761079</td>\n",
       "    </tr>\n",
       "    <tr>\n",
       "      <th>UA</th>\n",
       "      <td>Ukrane</td>\n",
       "      <td>45.50</td>\n",
       "      <td>603628</td>\n",
       "      <td>75.377550</td>\n",
       "    </tr>\n",
       "    <tr>\n",
       "      <th>KZ</th>\n",
       "      <td>Kazakhstan</td>\n",
       "      <td>232.12</td>\n",
       "      <td>35445</td>\n",
       "      <td>6548.737481</td>\n",
       "    </tr>\n",
       "  </tbody>\n",
       "</table>\n",
       "</div>"
      ],
      "text/plain": [
       "       country  population    square      Density\n",
       "KZ  Kazakhstan       17.04   2724902     6.253436\n",
       "RU      Russia      143.50  17125191     8.379469\n",
       "BY     Belarus        9.50    207600    45.761079\n",
       "UA      Ukrane       45.50    603628    75.377550\n",
       "KZ  Kazakhstan      232.12     35445  6548.737481"
      ]
     },
     "execution_count": 113,
     "metadata": {},
     "output_type": "execute_result"
    }
   ],
   "source": [
    "df"
   ]
  },
  {
   "cell_type": "code",
   "execution_count": 114,
   "id": "423d8f51",
   "metadata": {},
   "outputs": [
    {
     "data": {
      "text/html": [
       "<div>\n",
       "<style scoped>\n",
       "    .dataframe tbody tr th:only-of-type {\n",
       "        vertical-align: middle;\n",
       "    }\n",
       "\n",
       "    .dataframe tbody tr th {\n",
       "        vertical-align: top;\n",
       "    }\n",
       "\n",
       "    .dataframe thead th {\n",
       "        text-align: right;\n",
       "    }\n",
       "</style>\n",
       "<table border=\"1\" class=\"dataframe\">\n",
       "  <thead>\n",
       "    <tr style=\"text-align: right;\">\n",
       "      <th></th>\n",
       "      <th>country</th>\n",
       "      <th>population</th>\n",
       "      <th>square</th>\n",
       "      <th>Density</th>\n",
       "    </tr>\n",
       "  </thead>\n",
       "  <tbody>\n",
       "    <tr>\n",
       "      <th>RU</th>\n",
       "      <td>Russia</td>\n",
       "      <td>143.50</td>\n",
       "      <td>17125191</td>\n",
       "      <td>8.379469</td>\n",
       "    </tr>\n",
       "    <tr>\n",
       "      <th>KZ</th>\n",
       "      <td>Kazakhstan</td>\n",
       "      <td>17.04</td>\n",
       "      <td>2724902</td>\n",
       "      <td>6.253436</td>\n",
       "    </tr>\n",
       "    <tr>\n",
       "      <th>UA</th>\n",
       "      <td>Ukrane</td>\n",
       "      <td>45.50</td>\n",
       "      <td>603628</td>\n",
       "      <td>75.377550</td>\n",
       "    </tr>\n",
       "    <tr>\n",
       "      <th>BY</th>\n",
       "      <td>Belarus</td>\n",
       "      <td>9.50</td>\n",
       "      <td>207600</td>\n",
       "      <td>45.761079</td>\n",
       "    </tr>\n",
       "    <tr>\n",
       "      <th>KZ</th>\n",
       "      <td>Kazakhstan</td>\n",
       "      <td>232.12</td>\n",
       "      <td>35445</td>\n",
       "      <td>6548.737481</td>\n",
       "    </tr>\n",
       "  </tbody>\n",
       "</table>\n",
       "</div>"
      ],
      "text/plain": [
       "       country  population    square      Density\n",
       "RU      Russia      143.50  17125191     8.379469\n",
       "KZ  Kazakhstan       17.04   2724902     6.253436\n",
       "UA      Ukrane       45.50    603628    75.377550\n",
       "BY     Belarus        9.50    207600    45.761079\n",
       "KZ  Kazakhstan      232.12     35445  6548.737481"
      ]
     },
     "execution_count": 114,
     "metadata": {},
     "output_type": "execute_result"
    }
   ],
   "source": [
    "# Группировка и сортировка\n",
    "\n",
    "df.sort_values('square', ascending=False).head(10) #sort_index"
   ]
  },
  {
   "cell_type": "code",
   "execution_count": 115,
   "id": "3010a8f0",
   "metadata": {},
   "outputs": [
    {
     "data": {
      "text/plain": [
       "country\n",
       "Belarus       1\n",
       "Kazakhstan    2\n",
       "Russia        1\n",
       "Ukrane        1\n",
       "Name: population, dtype: int64"
      ]
     },
     "execution_count": 115,
     "metadata": {},
     "output_type": "execute_result"
    }
   ],
   "source": [
    "df.groupby(['country'])['population'].count()"
   ]
  },
  {
   "cell_type": "code",
   "execution_count": 116,
   "id": "8fb082a0",
   "metadata": {},
   "outputs": [
    {
     "data": {
      "text/plain": [
       "country\n",
       "Belarus         45.761079\n",
       "Kazakhstan    3277.495458\n",
       "Russia           8.379469\n",
       "Ukrane          75.377550\n",
       "Name: Density, dtype: float64"
      ]
     },
     "execution_count": 116,
     "metadata": {},
     "output_type": "execute_result"
    }
   ],
   "source": [
    "df.groupby(['country'])['Density'].agg(np.mean)"
   ]
  },
  {
   "cell_type": "code",
   "execution_count": 118,
   "id": "a70541a5",
   "metadata": {},
   "outputs": [],
   "source": [
    "# Объединение и комбинации\n",
    "# df.append(df) #добавляет строки df1 в df2"
   ]
  },
  {
   "cell_type": "code",
   "execution_count": 120,
   "id": "63113e01",
   "metadata": {},
   "outputs": [
    {
     "data": {
      "text/html": [
       "<div>\n",
       "<style scoped>\n",
       "    .dataframe tbody tr th:only-of-type {\n",
       "        vertical-align: middle;\n",
       "    }\n",
       "\n",
       "    .dataframe tbody tr th {\n",
       "        vertical-align: top;\n",
       "    }\n",
       "\n",
       "    .dataframe thead th {\n",
       "        text-align: right;\n",
       "    }\n",
       "</style>\n",
       "<table border=\"1\" class=\"dataframe\">\n",
       "  <thead>\n",
       "    <tr style=\"text-align: right;\">\n",
       "      <th></th>\n",
       "      <th>country</th>\n",
       "      <th>population</th>\n",
       "      <th>square</th>\n",
       "      <th>Density</th>\n",
       "      <th>country</th>\n",
       "      <th>population</th>\n",
       "      <th>square</th>\n",
       "      <th>Density</th>\n",
       "    </tr>\n",
       "  </thead>\n",
       "  <tbody>\n",
       "    <tr>\n",
       "      <th>KZ</th>\n",
       "      <td>Kazakhstan</td>\n",
       "      <td>17.04</td>\n",
       "      <td>2724902</td>\n",
       "      <td>6.253436</td>\n",
       "      <td>Kazakhstan</td>\n",
       "      <td>17.04</td>\n",
       "      <td>2724902</td>\n",
       "      <td>6.253436</td>\n",
       "    </tr>\n",
       "    <tr>\n",
       "      <th>RU</th>\n",
       "      <td>Russia</td>\n",
       "      <td>143.50</td>\n",
       "      <td>17125191</td>\n",
       "      <td>8.379469</td>\n",
       "      <td>Russia</td>\n",
       "      <td>143.50</td>\n",
       "      <td>17125191</td>\n",
       "      <td>8.379469</td>\n",
       "    </tr>\n",
       "    <tr>\n",
       "      <th>BY</th>\n",
       "      <td>Belarus</td>\n",
       "      <td>9.50</td>\n",
       "      <td>207600</td>\n",
       "      <td>45.761079</td>\n",
       "      <td>Belarus</td>\n",
       "      <td>9.50</td>\n",
       "      <td>207600</td>\n",
       "      <td>45.761079</td>\n",
       "    </tr>\n",
       "    <tr>\n",
       "      <th>UA</th>\n",
       "      <td>Ukrane</td>\n",
       "      <td>45.50</td>\n",
       "      <td>603628</td>\n",
       "      <td>75.377550</td>\n",
       "      <td>Ukrane</td>\n",
       "      <td>45.50</td>\n",
       "      <td>603628</td>\n",
       "      <td>75.377550</td>\n",
       "    </tr>\n",
       "    <tr>\n",
       "      <th>KZ</th>\n",
       "      <td>Kazakhstan</td>\n",
       "      <td>232.12</td>\n",
       "      <td>35445</td>\n",
       "      <td>6548.737481</td>\n",
       "      <td>Kazakhstan</td>\n",
       "      <td>232.12</td>\n",
       "      <td>35445</td>\n",
       "      <td>6548.737481</td>\n",
       "    </tr>\n",
       "  </tbody>\n",
       "</table>\n",
       "</div>"
      ],
      "text/plain": [
       "       country  population    square      Density     country  population  \\\n",
       "KZ  Kazakhstan       17.04   2724902     6.253436  Kazakhstan       17.04   \n",
       "RU      Russia      143.50  17125191     8.379469      Russia      143.50   \n",
       "BY     Belarus        9.50    207600    45.761079     Belarus        9.50   \n",
       "UA      Ukrane       45.50    603628    75.377550      Ukrane       45.50   \n",
       "KZ  Kazakhstan      232.12     35445  6548.737481  Kazakhstan      232.12   \n",
       "\n",
       "      square      Density  \n",
       "KZ   2724902     6.253436  \n",
       "RU  17125191     8.379469  \n",
       "BY    207600    45.761079  \n",
       "UA    603628    75.377550  \n",
       "KZ     35445  6548.737481  "
      ]
     },
     "execution_count": 120,
     "metadata": {},
     "output_type": "execute_result"
    }
   ],
   "source": [
    "pd.concat([df, df], axis=1)"
   ]
  },
  {
   "cell_type": "code",
   "execution_count": 122,
   "id": "cfd3bf43",
   "metadata": {},
   "outputs": [
    {
     "data": {
      "text/plain": [
       "<AxesSubplot: ylabel='Frequency'>"
      ]
     },
     "execution_count": 122,
     "metadata": {},
     "output_type": "execute_result"
    },
    {
     "data": {
      "image/png": "[encoded data removed]",
      "text/plain": [
       "<Figure size 640x480 with 1 Axes>"
      ]
     },
     "metadata": {},
     "output_type": "display_data"
    }
   ],
   "source": [
    "# ВИЗУАЛИЗАЦИЯ\n",
    "df['Density'].plot.hist()"
   ]
  },
  {
   "cell_type": "code",
   "execution_count": 123,
   "id": "5edee73a",
   "metadata": {},
   "outputs": [
    {
     "data": {
      "text/html": [
       "<div>\n",
       "<style scoped>\n",
       "    .dataframe tbody tr th:only-of-type {\n",
       "        vertical-align: middle;\n",
       "    }\n",
       "\n",
       "    .dataframe tbody tr th {\n",
       "        vertical-align: top;\n",
       "    }\n",
       "\n",
       "    .dataframe thead th {\n",
       "        text-align: right;\n",
       "    }\n",
       "</style>\n",
       "<table border=\"1\" class=\"dataframe\">\n",
       "  <thead>\n",
       "    <tr style=\"text-align: right;\">\n",
       "      <th></th>\n",
       "      <th>country</th>\n",
       "      <th>population</th>\n",
       "      <th>square</th>\n",
       "      <th>Density</th>\n",
       "    </tr>\n",
       "  </thead>\n",
       "  <tbody>\n",
       "    <tr>\n",
       "      <th>KZ</th>\n",
       "      <td>KazakhstanKazakhstan</td>\n",
       "      <td>34.08</td>\n",
       "      <td>5449804</td>\n",
       "      <td>12.506872</td>\n",
       "    </tr>\n",
       "    <tr>\n",
       "      <th>RU</th>\n",
       "      <td>RussiaRussia</td>\n",
       "      <td>287.00</td>\n",
       "      <td>34250382</td>\n",
       "      <td>16.758937</td>\n",
       "    </tr>\n",
       "    <tr>\n",
       "      <th>BY</th>\n",
       "      <td>BelarusBelarus</td>\n",
       "      <td>19.00</td>\n",
       "      <td>415200</td>\n",
       "      <td>91.522158</td>\n",
       "    </tr>\n",
       "    <tr>\n",
       "      <th>UA</th>\n",
       "      <td>UkraneUkrane</td>\n",
       "      <td>91.00</td>\n",
       "      <td>1207256</td>\n",
       "      <td>150.755101</td>\n",
       "    </tr>\n",
       "    <tr>\n",
       "      <th>KZ</th>\n",
       "      <td>KazakhstanKazakhstan</td>\n",
       "      <td>464.24</td>\n",
       "      <td>70890</td>\n",
       "      <td>13097.474961</td>\n",
       "    </tr>\n",
       "  </tbody>\n",
       "</table>\n",
       "</div>"
      ],
      "text/plain": [
       "                 country  population    square       Density\n",
       "KZ  KazakhstanKazakhstan       34.08   5449804     12.506872\n",
       "RU          RussiaRussia      287.00  34250382     16.758937\n",
       "BY        BelarusBelarus       19.00    415200     91.522158\n",
       "UA          UkraneUkrane       91.00   1207256    150.755101\n",
       "KZ  KazakhstanKazakhstan      464.24     70890  13097.474961"
      ]
     },
     "execution_count": 123,
     "metadata": {},
     "output_type": "execute_result"
    }
   ],
   "source": [
    "df + df"
   ]
  },
  {
   "cell_type": "code",
   "execution_count": null,
   "id": "6ca76fdf",
   "metadata": {},
   "outputs": [],
   "source": []
  }
 ],
 "metadata": {
  "kernelspec": {
   "display_name": "Python 3 (ipykernel)",
   "language": "python",
   "name": "python3"
  },
  "language_info": {
   "codemirror_mode": {
    "name": "ipython",
    "version": 3
   },
   "file_extension": ".py",
   "mimetype": "text/x-python",
   "name": "python",
   "nbconvert_exporter": "python",
   "pygments_lexer": "ipython3",
   "version": "3.8.10"
  }
 },
 "nbformat": 4,
 "nbformat_minor": 5
}
